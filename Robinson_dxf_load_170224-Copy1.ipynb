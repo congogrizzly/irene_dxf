{
 "cells": [
  {
   "cell_type": "markdown",
   "metadata": {},
   "source": [
    "### Import necessary packages, define dxf parsing functions"
   ]
  },
  {
   "cell_type": "code",
   "execution_count": 10,
   "metadata": {
    "collapsed": false,
    "scrolled": true
   },
   "outputs": [
    {
     "name": "stdout",
     "output_type": "stream",
     "text": [
      "Using matplotlib backend: Qt5Agg\n",
      "Populating the interactive namespace from numpy and matplotlib\n"
     ]
    },
    {
     "name": "stderr",
     "output_type": "stream",
     "text": [
      "C:\\Users\\uwisolab\\Anaconda2\\lib\\site-packages\\IPython\\core\\magics\\pylab.py:161: UserWarning: pylab import has clobbered these variables: ['f']\n",
      "`%matplotlib` prevents importing * from pylab and numpy\n",
      "  \"\\n`%matplotlib` prevents importing * from pylab and numpy\"\n"
     ]
    }
   ],
   "source": [
    "import re\n",
    "import sys\n",
    "import glob\n",
    "import struct\n",
    "import pandas as pd\n",
    "from scipy.optimize import curve_fit\n",
    "from scipy.special import erf\n",
    "from scipy.stats import linregress\n",
    "from scipy.signal import medfilt\n",
    "\n",
    "%pylab\n",
    "\n",
    "def nullify(s):\n",
    "    \"\"\"Effectively converts UTF-8 encoded text into UTF-16\"\"\"\n",
    "    s2 = \"\\0\".join(list(s)) + \"\\0\"\n",
    "    return s2.encode()\n",
    "\n",
    "def process_line_o2(b):\n",
    "    \"\"\"Returns one 'line' (data point) of oxygen data\"\"\"\n",
    "    return struct.unpack(\"<fddd\", b)\n",
    "\n",
    "def process_line_n2(b):\n",
    "    \"\"\"Returns one 'line' (data point) of nitrogen data\"\"\"\n",
    "    return struct.unpack(\"<fdd\", b)\n",
    "\n",
    "def get_odata(bites, pattern=b\"CEvalGCData\"):\n",
    "    ostart = re.search(pattern, bites)\n",
    "    nions = 3\n",
    "    \n",
    "    # nbytes is the total number of bytes containing time, 3 cups of data\n",
    "    \n",
    "    nbytes = struct.unpack(\"<I\", bites[ostart.end() + 4:ostart.end() + 8])[0]\n",
    "    no = nbytes / (4 + 8 * nions)\n",
    "    odata = []\n",
    "    for i in range(no):\n",
    "        line = bites[ostart.end() + 28*i + 8: ostart.end() + 8 + 28*(i+1)]\n",
    "        odata += [process_line_o2(line)]\n",
    "    return array(odata)\n",
    "\n",
    "def get_ndata(bites, pattern=b\"CStringArray.+N\\0002\\0\"):\n",
    "    \n",
    "    nstart = re.search(pattern, bites)\n",
    "    nbytes = struct.unpack(\"<I\", bites[nstart.end() + 22:nstart.end() + 26])[0]\n",
    "    nions = 2\n",
    "    nlines = nbytes / (4 + 8 * nions)\n",
    "    ndata = []\n",
    "    for i in range(nlines):\n",
    "        line = bites[nstart.end() + 26 + i*20: nstart.end() + 26 + 20*(i+1)]\n",
    "        ndata += [process_line_n2(line)]\n",
    "    return array(ndata)\n",
    "\n",
    "# Define the peakfinding function\n",
    "\n",
    "def peakfind(data, riselim, decay_start, decay_end, offset):\n",
    "    \"\"\"Peak finding code that uses slopes of peaks for definition\"\"\"\n",
    "    grad = gradient(data)\n",
    "    downgrad = gradient(data, 5)\n",
    "    l2 = []\n",
    "    started = 0\n",
    "    decaying = 0\n",
    "    for i in range(len(grad)):\n",
    "        if not started:\n",
    "            if grad[i] > riselim:\n",
    "                l2 += [i]\n",
    "                started = 1\n",
    "        elif started and grad[i] > riselim:\n",
    "            continue\n",
    "        elif grad[i] < decay_start and started and not decaying:\n",
    "            decaying = 1\n",
    "        elif started and decaying and downgrad[i] > decay_end:\n",
    "            l2 += [i]\n",
    "            started = 0\n",
    "            decaying = 0\n",
    "            return array(l2) + offset\n",
    "\n",
    "\n",
    "def rtod(ratio, std):\n",
    "    \"\"\"Helper function that converts ratios to del values\"\"\"\n",
    "    ratio = array(ratio)\n",
    "    return ((ratio / std) - 1) * 1000\n",
    "\n",
    "def dtor(delta, std):\n",
    "    \"\"\"Helper function to convert from del values to a ratio\"\"\"\n",
    "    delta = array(delta)\n",
    "    return (delta / 1000 + 1) * std\n",
    "\n",
    "def corr(corrline, r, std):\n",
    "    \"\"\"Helper function to corect ratios based on a correction line\"\"\"\n",
    "    r = array(r)\n",
    "    corrected_ratio = r*corrline[0] + corrline[1]\n",
    "    return rtod(corrected_ratio, std)\n",
    "\n",
    "def keysearch(search, data):\n",
    "    \"\"\"Function that searches dictionary for particular keys\"\"\"\n",
    "    l = []\n",
    "    for key in data.keys():\n",
    "        if search(key):\n",
    "            l += [key]\n",
    "    return l\n",
    "\n",
    "def D17O_excess(d17, d18, factor=0.52):\n",
    "    \"\"\"\n",
    "    Calculate the O-17 excess given d18 and d17 data\n",
    "    \n",
    "    inputs\n",
    "    ------\n",
    "    d17 : array of floats\n",
    "    d18 : array of floats\n",
    "    factor : float\n",
    "    \"\"\"\n",
    "    return d17 - factor * d18\n",
    "\n",
    "def set_color(s):\n",
    "    if s in [\"USGS34\"]:\n",
    "        return 'magenta'\n",
    "    elif s in [\"USGS35\"]:\n",
    "        return 'red'\n",
    "    elif s in [\"USGS32\"]:\n",
    "        return 'Chartreuse'\n",
    "    elif s in [\"IAEANO3\"]:\n",
    "        return 'yellow'\n",
    "    else: \n",
    "        return 'k'\n",
    "    \n",
    "def savestuff(fname, l):\n",
    "    with open(fname, 'w') as f:\n",
    "        for line in l:\n",
    "            s = \"\\t\".join(line)\n",
    "            f.write(s + \"\\n\")\n",
    "        f.close()"
   ]
  },
  {
   "cell_type": "markdown",
   "metadata": {},
   "source": [
    "### Standards data\n",
    "rXX values are resistor values for a given mass XX"
   ]
  },
  {
   "cell_type": "code",
   "execution_count": 2,
   "metadata": {
    "collapsed": true
   },
   "outputs": [],
   "source": [
    "irene_standards_date = 'Irene Standards as of: 161121'\n",
    "SMOW17 = 0.0003799 # The 17O/16O ratio of SMOW, from Li et al., 1988\n",
    "SMOW18 = 0.0020052 # The 18O/16O ratio of SMOW, from Baertschi 1976\n",
    "air15 = 0.0036782 # The 15N/14N ratio of air, from De Bievre et al., 1996\n",
    "\n",
    "IAEANO3 = {'name':'IAEANO3','material':'potassium nitrate','index':[],'d15Nacc':4.72,'d18Oacc':25.32,'d17Oacc':nan,'D17Oacc':-0.18,'notes':'d15N according to Bohlke and Coplen 1993, d18O according to Brand et al. 2009, D17O according to Michalski et al. 2002, d17O calculated from d18O and D17O using 0.52*USGS35[\"d18Oacc\"]+USGS35[\"D17Oacc]'}\n",
    "IAEANO3[\"d17Oacc\"] = 0.52*IAEANO3[\"d18Oacc\"]+IAEANO3[\"D17Oacc\"]\n",
    "USGS35 = {'name':'USGS35','material':'sodium nitrate','index':[],'d15Nacc':2.7,'d18Oacc':56.81,'d17Oacc':nan,'D17Oacc':21.56,'notes':'d15N according to Bohlke et al. 2003, d18O according to Brand et al. 2009, D17O according to Michalski et al. 2002, d17O calculated from d18O and D17O using 0.52*USGS35[\"d18Oacc\"]+USGS35[\"D17Oacc\"]'}\n",
    "USGS35[\"d17Oacc\"] = 0.52*USGS35[\"d18Oacc\"]+USGS35[\"D17Oacc\"]\n",
    "USGS35[\"alpha\"] = log(1+USGS35[\"d17Oacc\"]/1000)/log(1+USGS35[\"d18Oacc\"]/1000)\n",
    "USGS34 = {'name':'USGS34','material':'potassium nitrate','index':[],'d15Nacc':-1.8,'d18Oacc':-27.78,'d17Oacc':nan,'D17Oacc':-0.1,'notes':'d15N according to Bohlke et al. 2003, d18O according to Brand et al. 2009, D17O according to Bohlke et al. 2002'}\n",
    "USGS34[\"d17Oacc\"] = 0.52*USGS34[\"d18Oacc\"]+USGS34[\"D17Oacc\"]\n",
    "USGS32 = {'name':'USGS32','material':'potassium nitrate','index':[],'d15Nacc':180,'d18Oacc':25.4,'d17Oacc':nan,'D17Oacc':-0.2,'notes':'d15N acc\"]ording to Bohlke and Coplen 1993, d18O acc\"]ording to Brand et al. 2009, D17O assumed to be -0.2, d17O calculated from that]'}\n",
    "USGS32[\"d17Oacc\"] = 0.52*USGS32[\"d18Oacc\"]+USGS32[\"D17Oacc\"]\n",
    "\n",
    "# Reference gases\n",
    "d17O_ref_measured = 11.310 # vs. VSMOW\n",
    "d18O_ref_measured = 22.120 # vs. VSMOW\n",
    "\n",
    "r17O_ref_measured = dtor(d17O_ref_measured, SMOW17)\n",
    "r18O_ref_measured = dtor(d18O_ref_measured, SMOW18)\n",
    "\n",
    "r32 = 300e6\n",
    "r33 = 300e9\n",
    "r34 = 100e9\n",
    "r28 = 300e6\n",
    "r29 = (300e9**-1 + 30e9 ** -1)**-1\n"
   ]
  },
  {
   "cell_type": "markdown",
   "metadata": {},
   "source": [
    "### Load data files"
   ]
  },
  {
   "cell_type": "code",
   "execution_count": 11,
   "metadata": {
    "collapsed": false
   },
   "outputs": [
    {
     "name": "stderr",
     "output_type": "stream",
     "text": [
      "C:\\Users\\uwisolab\\Anaconda2\\lib\\site-packages\\ipykernel\\__main__.py:45: FutureWarning: comparison to `None` will result in an elementwise object comparison in the future.\n"
     ]
    },
    {
     "name": "stdout",
     "output_type": "stream",
     "text": [
      "('40886', 13.278442115121525, 26.51060550908646, -0.5070727496034344, 29385.056619064009)\n",
      "('Blank sample: ', ('blank', '40887'))\n",
      "('40888', 55.625665975691078, 70.473710179645991, 18.979336682275161, 16671.553811272075)\n",
      "('40889', -0.69471386198194374, -2.3420456781133581, 0.52314989063700246, 16445.912881215558)\n",
      "('40890', 21.169026120429368, 41.423804369323136, -0.37135215161866242, 15537.292832651545)\n",
      "('40891', 21.917073773698004, 42.873088757415132, -0.37693238015786434, 14399.654302270277)\n",
      "('40892', 55.473302316474182, 71.156421073330648, 18.471963358342244, 14331.782830142103)\n",
      "('40893', -0.25568343079684919, -1.937887218199652, 0.75201792266696987, 14347.160455027753)\n",
      "('40894', 22.434508828727886, 43.030566119846902, 0.058614446407496246, 14618.406047504641)\n",
      "('40895', 22.775460598570383, 44.043297983914933, -0.12705435306538249, 15662.279313491883)\n",
      "('40896', 71.344194011248248, 85.256767608030032, 27.010674855072629, 18859.078279047604)\n",
      "('40897', 62.993379007780568, 73.606032095060897, 24.718242318348899, 7897.7698815050899)\n",
      "('40898', 74.614537957113043, 89.568323216804529, 28.039009884374686, 19680.776517164562)\n",
      "('40899', 75.248477721197247, 90.991748492525787, 27.932768505083835, 21963.926881674983)\n",
      "('40900', 58.424449418626345, 74.837579451828788, 19.508908103675374, 20082.455150934609)\n",
      "('40901', 0.39401685919870921, -0.32000822236066817, 0.56042113482625666, 19651.342421960206)\n",
      "('40902', 22.90231647424168, 43.91624701970764, 0.065868023993704838, 19661.298714686345)\n",
      "('40903', 23.161842666202361, 45.100944989244994, -0.29064872820503496, 19720.220879359935)\n",
      "('40904', 65.219777668567673, 77.83505219381226, 24.745550527785298, 9391.278892998409)\n",
      "('40905', 75.147261482317433, 90.369427257513294, 28.155159308410518, 21013.189450392278)\n",
      "('40906', 75.482733854509206, 90.911917671904874, 28.208536665118672, 21638.98711298667)\n",
      "('40907', 76.090280367782981, 92.164153774283662, 28.164920405155478, 20170.959982175256)\n",
      "('40908', 58.240096737302238, 74.865533554976167, 19.310019288714628, 20809.518892339485)\n",
      "('40909', 1.1861327675695144, 0.45026594166341916, 0.9519944779045364, 20787.786953949297)\n",
      "('40910', 23.046234138665689, 44.745565847178483, -0.22146010186712317, 20892.024995435768)\n",
      "('40911', 23.490083934742945, 45.387832964017825, -0.11158920654632354, 19824.094614278354)\n",
      "('40912', 74.010378346514031, 89.125408042890925, 27.665166164210746, 22602.549193657764)\n",
      "('40913', 75.76238367671651, 91.196337888061137, 28.340287974924721, 21523.043124146323)\n",
      "('40914', 73.610541784632218, 88.065097825089865, 27.81669091558549, 22014.456607978653)\n",
      "('40915', 75.748638823565969, 91.595950840543509, 28.118744386483343, 22005.866753360173)\n",
      "('40916', 58.269245144743294, 74.486227410266224, 19.536406891404859, 21321.004619248833)\n",
      "('40917', 0.91792985685690276, 0.35028165943362666, 0.7357833939514169, 20794.786602507462)\n",
      "('40918', 22.706644316457634, 44.216950127567323, -0.28616974987737365, 19957.467855133105)\n",
      "('40919', 23.366820746193451, 45.086671430230709, -0.078248397526518687, 19730.495098874835)\n",
      "('40920', 74.196031987526112, 90.320710643776891, 27.229262452762129, 22963.566445166329)\n",
      "('40921', 74.857501683988744, 89.946870263259086, 28.085129147094015, 23186.472332306839)\n",
      "('40922', 58.615865029473028, 75.144383135916428, 19.540785798796485, 22538.348391993142)\n",
      "('40923', 1.0511105535948584, 0.66991934409599274, 0.70275249466494216, 22684.265420331136)\n",
      "('40924', 22.67579165337219, 44.588576495147912, -0.51026812410472289, 22346.283001725096)\n",
      "('40925', 23.502415259445407, 45.921311545446656, -0.37666674418685631, 22424.798525511364)\n",
      "('40926', 14.638880578832225, 28.64244935255811, -0.25519308449799283, 29607.49406884432)\n"
     ]
    }
   ],
   "source": [
    "path = \"S:/Data/projects/Robinson_WAIS/dxf/170801_Robinson_160805/\"\n",
    "files = glob.glob(path + \"*dxf\")\n",
    "fname_1 = \"170801_WAIS_Robinson_160805\" + \".txt\"\n",
    "plotall = True\n",
    "df = pd.DataFrame()\n",
    "\n",
    "data = []\n",
    "for fid in files:\n",
    "    bites = None\n",
    "    fullname = re.split(r\"[\\\\|\\.]\", fid)[-2]\n",
    "    #print(fullname)\n",
    "    #print(re.split(r\"[__|\\-]\", fullname))\n",
    "    run, blah, samp, blah2 = re.split(r\"[__|\\-]\", fullname)\n",
    "    with open(fid, 'rb') as f:\n",
    "        bites = f.read()\n",
    "    odata = get_odata(bites)\n",
    "    ndata = get_ndata(bites)\n",
    "    data += [[(samp, run), (odata, ndata)]]\n",
    "    \n",
    "d = {key: value for (key, value) in data}\n",
    "keys = []\n",
    "for key in d.keys():\n",
    "    if \"USGS35\" in key:\n",
    "        keys += [key]\n",
    "keys\n",
    "\n",
    "\n",
    "out = {}\n",
    "keys = sorted(d.keys(), key=lambda x: int(x[1]))\n",
    "for key in keys:\n",
    "    #print(key)\n",
    "    if plotall:\n",
    "        fig, ax = subplots()\n",
    "        fig.canvas.set_window_title(key[1] + \": \" + key[0])\n",
    "        ax.set_xlim(0, 180)\n",
    "        ax.set_ylim(0, 10000)\n",
    "    odata = d[key][0]\n",
    "    \n",
    "    grad = gradient(odata[:, 1])\n",
    "    ref_search_start = 40*5\n",
    "    sample_search_start = 140*5\n",
    "    refpeak = peakfind(odata[ref_search_start:, 2],  0.5, -5, -0.05, ref_search_start)\n",
    "    samppeak = peakfind(odata[sample_search_start:, 1],  0.5, -5, -0.05, sample_search_start)\n",
    "    \n",
    "    if samppeak == None:\n",
    "        print(\"Blank sample: \", key)\n",
    "        continue\n",
    "    \n",
    "    ref_bk_end = refpeak[0] - 5*5\n",
    "    ref_bk_start = refpeak[0] - (35 + 20*5)\n",
    "    \n",
    "    samp_bk_start = samppeak[0] - (35 + 20*5)\n",
    "    samp_bk_end = samppeak[0] - 10*5\n",
    "    \n",
    "    \n",
    "    #print(odata[(samp_bk_start, samp_bk_end), 0])\n",
    "\n",
    "    t0_ref = odata[ref_bk_start, 0]\n",
    "    ref_bk_32_fit = polyfit(odata[ref_bk_start:ref_bk_end, 0] - t0_ref, medfilt(odata[ref_bk_start:ref_bk_end, 1], 13), 2)\n",
    "    ref_bk_33_fit = polyfit(odata[ref_bk_start:ref_bk_end, 0] - t0_ref, medfilt(odata[ref_bk_start:ref_bk_end, 2], 13), 1)\n",
    "    ref_bk_34_fit = polyfit(odata[ref_bk_start:ref_bk_end, 0] - t0_ref, medfilt(odata[ref_bk_start:ref_bk_end, 3], 13), 2)\n",
    "    \n",
    "    t0_samp = odata[samp_bk_start, 0]\n",
    "    samp_bk_32_fit = polyfit(odata[samp_bk_start:samp_bk_end, 0] - t0_samp, medfilt(odata[samp_bk_start:samp_bk_end, 1], 13), 2)\n",
    "    samp_bk_33_fit = polyfit(odata[samp_bk_start:samp_bk_end, 0] - t0_samp, medfilt(odata[samp_bk_start:samp_bk_end, 2], 13), 1)\n",
    "    samp_bk_34_fit = polyfit(odata[samp_bk_start:samp_bk_end, 0] - t0_samp, medfilt(odata[samp_bk_start:samp_bk_end, 3], 13), 2)\n",
    "    \n",
    "    ref_bk_fits = [ref_bk_32_fit, ref_bk_33_fit, ref_bk_34_fit]\n",
    "    samp_bk_fits = [samp_bk_32_fit, samp_bk_33_fit, samp_bk_34_fit]\n",
    "    \n",
    "    x0_ref = odata[ref_bk_start:refpeak[1], 0] - t0_ref\n",
    "    ref_fits = [polyval(fit, x0_ref) for fit in ref_bk_fits]\n",
    "    x0_samp = odata[samp_bk_start:samppeak[1], 0] - t0_samp\n",
    "    samp_fits = [polyval(fit, x0_samp) for fit in samp_bk_fits]\n",
    "    \n",
    "    if plotall: \n",
    "\n",
    "        plot(odata[:, 0], odata[:, 1])\n",
    "        plot(odata[:, 0], odata[:, 2])\n",
    "        plot(odata[:, 0], odata[:, 3])\n",
    "\n",
    "        plot(x0_ref + t0_ref, ref_fits[0])\n",
    "        plot(x0_ref + t0_ref, ref_fits[1])\n",
    "        plot(x0_ref + t0_ref, ref_fits[2])\n",
    "\n",
    "        plot(x0_samp + t0_samp, samp_fits[0])\n",
    "        plot(x0_samp + t0_samp, samp_fits[1])\n",
    "        plot(x0_samp + t0_samp, samp_fits[2])\n",
    "\n",
    "        plot(odata[samppeak, 0], odata[samppeak, 1], 'kv')\n",
    "        plot(odata[refpeak, 0], odata[refpeak, 1], 'kv')\n",
    "    \n",
    "    a32_ref = trapz(odata[refpeak[0]:refpeak[1], 1] - ref_fits[0][refpeak[0] - ref_bk_start], odata[refpeak[0]:refpeak[1], 0])\n",
    "    a33_ref = trapz(odata[refpeak[0]:refpeak[1], 2] - ref_fits[1][refpeak[0] - ref_bk_start], odata[refpeak[0]:refpeak[1], 0])\n",
    "    a34_ref = trapz(odata[refpeak[0]:refpeak[1], 3] - ref_fits[2][refpeak[0] - ref_bk_start], odata[refpeak[0]:refpeak[1], 0])\n",
    "    r17_ref = (a33_ref/r33) / (2*a32_ref/r32 + a33_ref/r33 + a34_ref/r34)\n",
    "    r18_ref = (a34_ref/r34) / (2*a32_ref/r32 + a33_ref/r33 + a34_ref/r34)\n",
    "    acorr_33 = r17O_ref_measured / r17_ref\n",
    "    acorr_34 = r18O_ref_measured / r18_ref\n",
    "      \n",
    "    a32 = trapz(odata[samppeak[0]:samppeak[1], 1] - samp_fits[0][samppeak[0] - samp_bk_start], odata[samppeak[0]:samppeak[1], 0])\n",
    "    a33 = trapz(odata[samppeak[0]:samppeak[1], 2] - samp_fits[1][samppeak[0] - samp_bk_start], odata[samppeak[0]:samppeak[1], 0])\n",
    "    a34 = trapz(odata[samppeak[0]:samppeak[1], 3] - samp_fits[2][samppeak[0] - samp_bk_start], odata[samppeak[0]:samppeak[1], 0])\n",
    "    \n",
    "    #print(\"raw Reference peak areas: \", a32_ref, a33_ref, a34_ref)\n",
    "    #print(\"raw Sample peak areas:\", a32, a33, a34)\n",
    "    \n",
    "    r17 = acorr_33*(a33/r33) / (2*a32/r32 + a33/r33 + a34/r34)\n",
    "    r18 = acorr_34*(a34/r34) / (2*a32/r32 + a33/r33 + a34/r34)\n",
    "    r17_uncorr = (a33/r33) / (2*a32/r32 + a33/r33 + a34/r34)\n",
    "    r18_uncorr = (a34/r34) / (2*a32/r32 + a33/r33 + a34/r34)\n",
    "    \n",
    "    d17O_ref = rtod(r17_ref, SMOW17)\n",
    "    d18O_ref = rtod(r18_ref, SMOW18)\n",
    "    D17O_ref = d17O_ref - 0.52*d18O_ref\n",
    "\n",
    "    d17O = rtod(r17, SMOW17)\n",
    "    d18O = rtod(r18, SMOW18)\n",
    "    D17O = d17O - 0.52*d18O\n",
    "    \n",
    "    d17O_uc = rtod(r17_uncorr, SMOW17)\n",
    "    d18O_uc = rtod(r18_uncorr, SMOW18)\n",
    "    D17O_uc = D17O_excess(d17O_uc, d18O_uc)\n",
    "    print(key[1], d17O, d18O, D17O, a32)\n",
    "\n",
    "    \n",
    "    d_refs = [d17O_ref, d18O_ref, D17O_ref]\n",
    "    d_samp = [d17O, d18O, D17O]\n",
    "    out[key] = {\"refdata\": {\"d17O\": d17O_ref, \"d18O\": d18O_ref, \"D17O\": D17O_ref, \"r17O\": r17_ref, \"r18O\": r18_ref}, \n",
    "                \"sampdata\": {\"d17O\": d17O, \"d18O\": d18O, \"D17O\": D17O, \"r17O\": r17, \"r18O\": r18},\n",
    "                \"samp_noref\": {\"d17O\" : d17O_uc, \"d18O\": d18O_uc, \"D17O\": D17O_uc, \"r17O\": r17_uncorr, \"r18O\": r18_uncorr}}\n",
    "\n",
    "    #print(\"Reference del values: \", d17O_ref, d18O_ref, D17O_ref)\n",
    "    #print(\"Sample raw del values: \", d17O, d18O, D17O)\n",
    "\n",
    "    #def O_calibrate(data):\n",
    "data = out\n",
    "stand_34 = keysearch(lambda x: \"USGS34\" in x, out)\n",
    "stand_35 = keysearch(lambda x: \"USGS35\" in x, out)\n",
    "stand_IA = keysearch(lambda x: \"IAEANO3\" in x, out)\n",
    "stand_32 = keysearch(lambda x: \"USGS32\" in x, out)\n",
    "\n",
    "us34_r17 = []\n",
    "us34_r18 = []\n",
    "us35_r17 = []\n",
    "us35_r18 = []\n",
    "iaea_r17 = []\n",
    "iaea_r18 = []\n",
    "us32_r17 = []\n",
    "us32_r18 = []\n",
    "\n",
    "for key in stand_34:\n",
    "    us34_r17 += [data[key][\"sampdata\"][\"r17O\"]]\n",
    "    us34_r18 += [data[key][\"sampdata\"][\"r18O\"]]\n",
    "for key in stand_35:\n",
    "    us35_r17 += [data[key][\"sampdata\"][\"r17O\"]]\n",
    "    us35_r18 += [data[key][\"sampdata\"][\"r18O\"]]    \n",
    "for key in stand_IA:\n",
    "    iaea_r17 += [data[key][\"sampdata\"][\"r17O\"]]\n",
    "    iaea_r18 += [data[key][\"sampdata\"][\"r18O\"]]\n",
    "for key in stand_32:\n",
    "    us32_r17 += [data[key][\"sampdata\"][\"r17O\"]]\n",
    "    us32_r18 += [data[key][\"sampdata\"][\"r18O\"]]    \n",
    "    \n",
    "    \n",
    "\n",
    "all_r17 = concatenate((array(us34_r17), array(us35_r17)))\n",
    "all_r18 = concatenate((array(us34_r18), array(us35_r18)))\n",
    "us35_D17O = D17O_excess(rtod(array(us35_r17), SMOW17),rtod(array(us35_r18), SMOW18))\n",
    "us34_D17O = D17O_excess(rtod(array(us34_r17), SMOW17),rtod(array(us34_r18), SMOW18))\n",
    "all_D17O = concatenate((us34_D17O, us35_D17O))\n",
    "                                                \n",
    "\n",
    "u34_r17acc = dtor(USGS34[\"d17Oacc\"], SMOW17)\n",
    "u34_r18acc = dtor(USGS34[\"d18Oacc\"], SMOW18)\n",
    "\n",
    "u35_r17acc = dtor(USGS35[\"d17Oacc\"], SMOW17)\n",
    "u35_r18acc = dtor(USGS35[\"d18Oacc\"], SMOW18)\n",
    "                        \n",
    "u35_D17acc = USGS35[\"D17Oacc\"]\n",
    "u34_D17acc = USGS34[\"D17Oacc\"]\n",
    "\n",
    "all_acc_r17 = concatenate((ones_like(us34_r17) * u34_r17acc, ones_like(us35_r17) * u35_r17acc))\n",
    "all_acc_r18 = concatenate((ones_like(us34_r18) * u34_r18acc, ones_like(us35_r18) * u35_r18acc))\n",
    "all_acc_D17O = concatenate((ones_like(us34_r18) * u34_D17acc, ones_like(us35_r18) * u35_D17acc))\n",
    "\n",
    "corrline_r17 = linregress(all_r17, all_acc_r17)\n",
    "corrline_r18 = linregress(all_r18, all_acc_r18)\n",
    "corrline_D17 = linregress(all_D17O, all_acc_D17O)\n",
    "\n",
    "\n",
    "x17 = linspace(.99, 1.1, 111) * SMOW17\n",
    "x18 = linspace(.99, 1.1, 111) * SMOW18\n",
    "xD17 = linspace(-5, 40, 46)\n",
    "\n",
    "fig_d17, ax_d17 = subplots()\n",
    "fig_d18, ax_d18 = subplots()\n",
    "fig_D17, ax_D17 = subplots()\n",
    "fig_D17O, ax_D17O = subplots()\n",
    "\n",
    "\n",
    "ax_d17.plot(rtod(x17, SMOW17), rtod((corrline_r17[0]*x17 +  corrline_r17[1]), SMOW17))\n",
    "ax_d18.plot(rtod(x18, SMOW18), rtod((corrline_r18[0]*x18 +  corrline_r18[1]), SMOW18))\n",
    "ax_D17.plot(D17O_excess(rtod(x17, SMOW17),rtod(x18, SMOW18)), D17O_excess(corr(corrline_r17, x17, SMOW17), corr(corrline_r18, x18, SMOW18)))\n",
    "ax_D17O.plot(xD17, corrline_D17[0]*xD17 + corrline_D17[1])\n",
    "                        \n",
    "ll = []\n",
    "for x in sorted(out.items(), key=lambda x: x[0][1]):\n",
    "    color = set_color(x[0][0])\n",
    "    d17 = x[1][\"sampdata\"][\"d17O\"]\n",
    "    d18 = x[1][\"sampdata\"][\"d18O\"]\n",
    "    d17O_corr = corr(corrline_r17, x[1][\"sampdata\"][\"r17O\"], SMOW17)\n",
    "    d18O_corr = corr(corrline_r18, x[1][\"sampdata\"][\"r18O\"], SMOW18)\n",
    "    D17O_corr = D17O_excess(d17O_corr, d18O_corr)\n",
    "    D17O_corr2 = corrline_D17[0]*D17O_excess(d17, d18) + corrline_D17[1]\n",
    "    ax_d17.plot(x[1][\"sampdata\"][\"d17O\"], d17O_corr, 'o', color=color, label=x[0][0])\n",
    "    ax_d18.plot(x[1][\"sampdata\"][\"d18O\"], d18O_corr, 'o', color=color, label=x[0][0])\n",
    "    ax_D17.plot(D17O_excess(d17, d18), D17O_corr, 'o',color=color, label=x[0][0])\n",
    "    ax_D17O.plot(D17O_excess(d17, d18), D17O_corr, 'o',color=color, label=x[0][0])\n",
    "                        \n",
    "    ll += [[x[0][0], str(D17O_corr)]]\n",
    "    #print(x[0], D17O_corr)\n",
    "\n",
    "#savestuff(fname_1, ll)\n"
   ]
  },
  {
   "cell_type": "code",
   "execution_count": 12,
   "metadata": {
    "collapsed": true
   },
   "outputs": [],
   "source": [
    "df = pd.DataFrame(out)"
   ]
  },
  {
   "cell_type": "code",
   "execution_count": 15,
   "metadata": {
    "collapsed": false
   },
   "outputs": [
    {
     "ename": "TypeError",
     "evalue": "cannot concatenate a non-NDFrame object",
     "output_type": "error",
     "traceback": [
      "\u001b[0;31m---------------------------------------------------------------------------\u001b[0m",
      "\u001b[0;31mTypeError\u001b[0m                                 Traceback (most recent call last)",
      "\u001b[0;32m<ipython-input-15-6bd2fa567270>\u001b[0m in \u001b[0;36m<module>\u001b[0;34m()\u001b[0m\n\u001b[1;32m      1\u001b[0m \u001b[0mdf\u001b[0m \u001b[1;33m=\u001b[0m \u001b[0mpd\u001b[0m\u001b[1;33m.\u001b[0m\u001b[0mDataFrame\u001b[0m\u001b[1;33m(\u001b[0m\u001b[1;33m)\u001b[0m\u001b[1;33m\u001b[0m\u001b[0m\n\u001b[1;32m      2\u001b[0m \u001b[1;32mfor\u001b[0m \u001b[0mitem\u001b[0m \u001b[1;32min\u001b[0m \u001b[0mout\u001b[0m\u001b[1;33m.\u001b[0m\u001b[0mitems\u001b[0m\u001b[1;33m(\u001b[0m\u001b[1;33m)\u001b[0m\u001b[1;33m:\u001b[0m\u001b[1;33m\u001b[0m\u001b[0m\n\u001b[0;32m----> 3\u001b[0;31m     \u001b[0mdf\u001b[0m\u001b[1;33m.\u001b[0m\u001b[0mappend\u001b[0m\u001b[1;33m(\u001b[0m\u001b[0mitem\u001b[0m\u001b[1;33m[\u001b[0m\u001b[1;36m0\u001b[0m\u001b[1;33m]\u001b[0m\u001b[1;33m[\u001b[0m\u001b[1;36m0\u001b[0m\u001b[1;33m]\u001b[0m\u001b[1;33m,\u001b[0m \u001b[0mitem\u001b[0m\u001b[1;33m[\u001b[0m\u001b[1;36m1\u001b[0m\u001b[1;33m]\u001b[0m\u001b[1;33m[\u001b[0m\u001b[1;34m\"sampdata\"\u001b[0m\u001b[1;33m]\u001b[0m\u001b[1;33m)\u001b[0m\u001b[1;33m\u001b[0m\u001b[0m\n\u001b[0m",
      "\u001b[0;32mC:\\Users\\uwisolab\\Anaconda2\\lib\\site-packages\\pandas\\core\\frame.pyc\u001b[0m in \u001b[0;36mappend\u001b[0;34m(self, other, ignore_index, verify_integrity)\u001b[0m\n\u001b[1;32m   4444\u001b[0m             \u001b[0mto_concat\u001b[0m \u001b[1;33m=\u001b[0m \u001b[1;33m[\u001b[0m\u001b[0mself\u001b[0m\u001b[1;33m,\u001b[0m \u001b[0mother\u001b[0m\u001b[1;33m]\u001b[0m\u001b[1;33m\u001b[0m\u001b[0m\n\u001b[1;32m   4445\u001b[0m         return concat(to_concat, ignore_index=ignore_index,\n\u001b[0;32m-> 4446\u001b[0;31m                       verify_integrity=verify_integrity)\n\u001b[0m\u001b[1;32m   4447\u001b[0m \u001b[1;33m\u001b[0m\u001b[0m\n\u001b[1;32m   4448\u001b[0m     def join(self, other, on=None, how='left', lsuffix='', rsuffix='',\n",
      "\u001b[0;32mC:\\Users\\uwisolab\\Anaconda2\\lib\\site-packages\\pandas\\tools\\merge.pyc\u001b[0m in \u001b[0;36mconcat\u001b[0;34m(objs, axis, join, join_axes, ignore_index, keys, levels, names, verify_integrity, copy)\u001b[0m\n\u001b[1;32m   1332\u001b[0m                        \u001b[0mkeys\u001b[0m\u001b[1;33m=\u001b[0m\u001b[0mkeys\u001b[0m\u001b[1;33m,\u001b[0m \u001b[0mlevels\u001b[0m\u001b[1;33m=\u001b[0m\u001b[0mlevels\u001b[0m\u001b[1;33m,\u001b[0m \u001b[0mnames\u001b[0m\u001b[1;33m=\u001b[0m\u001b[0mnames\u001b[0m\u001b[1;33m,\u001b[0m\u001b[1;33m\u001b[0m\u001b[0m\n\u001b[1;32m   1333\u001b[0m                        \u001b[0mverify_integrity\u001b[0m\u001b[1;33m=\u001b[0m\u001b[0mverify_integrity\u001b[0m\u001b[1;33m,\u001b[0m\u001b[1;33m\u001b[0m\u001b[0m\n\u001b[0;32m-> 1334\u001b[0;31m                        copy=copy)\n\u001b[0m\u001b[1;32m   1335\u001b[0m     \u001b[1;32mreturn\u001b[0m \u001b[0mop\u001b[0m\u001b[1;33m.\u001b[0m\u001b[0mget_result\u001b[0m\u001b[1;33m(\u001b[0m\u001b[1;33m)\u001b[0m\u001b[1;33m\u001b[0m\u001b[0m\n\u001b[1;32m   1336\u001b[0m \u001b[1;33m\u001b[0m\u001b[0m\n",
      "\u001b[0;32mC:\\Users\\uwisolab\\Anaconda2\\lib\\site-packages\\pandas\\tools\\merge.pyc\u001b[0m in \u001b[0;36m__init__\u001b[0;34m(self, objs, axis, join, join_axes, keys, levels, names, ignore_index, verify_integrity, copy)\u001b[0m\n\u001b[1;32m   1389\u001b[0m         \u001b[1;32mfor\u001b[0m \u001b[0mobj\u001b[0m \u001b[1;32min\u001b[0m \u001b[0mobjs\u001b[0m\u001b[1;33m:\u001b[0m\u001b[1;33m\u001b[0m\u001b[0m\n\u001b[1;32m   1390\u001b[0m             \u001b[1;32mif\u001b[0m \u001b[1;32mnot\u001b[0m \u001b[0misinstance\u001b[0m\u001b[1;33m(\u001b[0m\u001b[0mobj\u001b[0m\u001b[1;33m,\u001b[0m \u001b[0mNDFrame\u001b[0m\u001b[1;33m)\u001b[0m\u001b[1;33m:\u001b[0m\u001b[1;33m\u001b[0m\u001b[0m\n\u001b[0;32m-> 1391\u001b[0;31m                 \u001b[1;32mraise\u001b[0m \u001b[0mTypeError\u001b[0m\u001b[1;33m(\u001b[0m\u001b[1;34m\"cannot concatenate a non-NDFrame object\"\u001b[0m\u001b[1;33m)\u001b[0m\u001b[1;33m\u001b[0m\u001b[0m\n\u001b[0m\u001b[1;32m   1392\u001b[0m \u001b[1;33m\u001b[0m\u001b[0m\n\u001b[1;32m   1393\u001b[0m             \u001b[1;31m# consolidate\u001b[0m\u001b[1;33m\u001b[0m\u001b[1;33m\u001b[0m\u001b[0m\n",
      "\u001b[0;31mTypeError\u001b[0m: cannot concatenate a non-NDFrame object"
     ]
    }
   ],
   "source": []
  },
  {
   "cell_type": "code",
   "execution_count": 122,
   "metadata": {
    "collapsed": false
   },
   "outputs": [
    {
     "name": "stdout",
     "output_type": "stream",
     "text": [
      "(-0.18, -0.26733902014754785, 0.70829087752824138)\n",
      "(-0.1, -0.099694457584398322, 0.18854199338358232)\n",
      "(-0.2, -0.85767031816077244, 0.084979495140161676)\n",
      "(21.56, 21.559694457584197, 0.28660181635172899)\n"
     ]
    }
   ],
   "source": [
    "print(IAEANO3[\"D17Oacc\"], mean(iaea_D17_corr), std(iaea_D17_corr))\n",
    "print(USGS34[\"D17Oacc\"], mean(us34_D17_corr), std(us34_D17_corr))\n",
    "print(USGS32[\"D17Oacc\"], mean(us32_D17_corr), std(us32_D17_corr))\n",
    "print(USGS35[\"D17Oacc\"], mean(us35_D17_corr), std(us35_D17_corr))"
   ]
  },
  {
   "cell_type": "code",
   "execution_count": 10,
   "metadata": {
    "collapsed": false
   },
   "outputs": [
    {
     "ename": "NameError",
     "evalue": "name 'iaea_D17_corr' is not defined",
     "output_type": "error",
     "traceback": [
      "\u001b[0;31m---------------------------------------------------------------------------\u001b[0m",
      "\u001b[0;31mNameError\u001b[0m                                 Traceback (most recent call last)",
      "\u001b[0;32m<ipython-input-10-2c06caf24765>\u001b[0m in \u001b[0;36m<module>\u001b[0;34m()\u001b[0m\n\u001b[0;32m----> 1\u001b[0;31m \u001b[1;32mprint\u001b[0m\u001b[1;33m(\u001b[0m\u001b[0mIAEANO3\u001b[0m\u001b[1;33m[\u001b[0m\u001b[1;34m\"D17Oacc\"\u001b[0m\u001b[1;33m]\u001b[0m\u001b[1;33m,\u001b[0m \u001b[0mmean\u001b[0m\u001b[1;33m(\u001b[0m\u001b[0miaea_D17_corr\u001b[0m\u001b[1;33m)\u001b[0m\u001b[1;33m,\u001b[0m \u001b[0mstd\u001b[0m\u001b[1;33m(\u001b[0m\u001b[0miaea_D17_corr\u001b[0m\u001b[1;33m)\u001b[0m\u001b[1;33m)\u001b[0m\u001b[1;33m\u001b[0m\u001b[0m\n\u001b[0m\u001b[1;32m      2\u001b[0m \u001b[1;32mprint\u001b[0m\u001b[1;33m(\u001b[0m\u001b[0mUSGS34\u001b[0m\u001b[1;33m[\u001b[0m\u001b[1;34m\"D17Oacc\"\u001b[0m\u001b[1;33m]\u001b[0m\u001b[1;33m,\u001b[0m \u001b[0mmean\u001b[0m\u001b[1;33m(\u001b[0m\u001b[0mus34_D17_corr\u001b[0m\u001b[1;33m)\u001b[0m\u001b[1;33m,\u001b[0m \u001b[0mstd\u001b[0m\u001b[1;33m(\u001b[0m\u001b[0mus34_D17_corr\u001b[0m\u001b[1;33m)\u001b[0m\u001b[1;33m)\u001b[0m\u001b[1;33m\u001b[0m\u001b[0m\n\u001b[1;32m      3\u001b[0m \u001b[1;32mprint\u001b[0m\u001b[1;33m(\u001b[0m\u001b[0mUSGS32\u001b[0m\u001b[1;33m[\u001b[0m\u001b[1;34m\"D17Oacc\"\u001b[0m\u001b[1;33m]\u001b[0m\u001b[1;33m,\u001b[0m \u001b[0mmean\u001b[0m\u001b[1;33m(\u001b[0m\u001b[0mus32_D17_corr\u001b[0m\u001b[1;33m)\u001b[0m\u001b[1;33m,\u001b[0m \u001b[0mstd\u001b[0m\u001b[1;33m(\u001b[0m\u001b[0mus32_D17_corr\u001b[0m\u001b[1;33m)\u001b[0m\u001b[1;33m)\u001b[0m\u001b[1;33m\u001b[0m\u001b[0m\n\u001b[1;32m      4\u001b[0m \u001b[1;32mprint\u001b[0m\u001b[1;33m(\u001b[0m\u001b[0mUSGS35\u001b[0m\u001b[1;33m[\u001b[0m\u001b[1;34m\"D17Oacc\"\u001b[0m\u001b[1;33m]\u001b[0m\u001b[1;33m,\u001b[0m \u001b[0mmean\u001b[0m\u001b[1;33m(\u001b[0m\u001b[0mus35_D17_corr\u001b[0m\u001b[1;33m)\u001b[0m\u001b[1;33m,\u001b[0m \u001b[0mstd\u001b[0m\u001b[1;33m(\u001b[0m\u001b[0mus35_D17_corr\u001b[0m\u001b[1;33m)\u001b[0m\u001b[1;33m)\u001b[0m\u001b[1;33m\u001b[0m\u001b[0m\n",
      "\u001b[0;31mNameError\u001b[0m: name 'iaea_D17_corr' is not defined"
     ]
    }
   ],
   "source": [
    "print(IAEANO3[\"D17Oacc\"], mean(iaea_D17_corr), std(iaea_D17_corr))\n",
    "print(USGS34[\"D17Oacc\"], mean(us34_D17_corr), std(us34_D17_corr))\n",
    "print(USGS32[\"D17Oacc\"], mean(us32_D17_corr), std(us32_D17_corr))\n",
    "print(USGS35[\"D17Oacc\"], mean(us35_D17_corr), std(us35_D17_corr))"
   ]
  },
  {
   "cell_type": "code",
   "execution_count": 123,
   "metadata": {
    "collapsed": false
   },
   "outputs": [
    {
     "name": "stdout",
     "output_type": "stream",
     "text": [
      "(12.986400000000001, 12.769365758366403, 0.64338865976121662)\n",
      "(-14.5456, -14.544578626809855, 0.12037837140815594)\n",
      "(13.008000000000001, 12.427320229622119, 0.081854025018439899)\n",
      "(51.101200000000006, 51.100178626809651, 0.23453051485287357)\n"
     ]
    }
   ],
   "source": [
    "print(IAEANO3[\"d17Oacc\"], mean(iaea_d17_corr), std(iaea_d17_corr))\n",
    "print(USGS34[\"d17Oacc\"], mean(us34_d17_corr), std(us34_d17_corr))\n",
    "print(USGS32[\"d17Oacc\"], mean(us32_d17_corr), std(us32_d17_corr))\n",
    "print(USGS35[\"d17Oacc\"], mean(us35_d17_corr), std(us35_d17_corr))"
   ]
  },
  {
   "cell_type": "code",
   "execution_count": 117,
   "metadata": {
    "collapsed": false
   },
   "outputs": [
    {
     "name": "stdout",
     "output_type": "stream",
     "text": [
      "(12.986400000000001, 12.442725097070673, 0.33545850975218616)\n",
      "(-14.5456, -14.543442056403428, 0.22244881054169119)\n",
      "(13.008000000000001, 12.564008593344795, 0.12198835048321961)\n",
      "(51.101200000000006, 51.099042056403036, 0.30782179904263735)\n"
     ]
    }
   ],
   "source": [
    "print(IAEANO3[\"d17Oacc\"], mean(iaea_d17_corr), std(iaea_d17_corr))\n",
    "print(USGS34[\"d17Oacc\"], mean(us34_d17_corr), std(us34_d17_corr))\n",
    "print(USGS32[\"d17Oacc\"], mean(us32_d17_corr), std(us32_d17_corr))\n",
    "print(USGS35[\"d17Oacc\"], mean(us35_d17_corr), std(us35_d17_corr))"
   ]
  },
  {
   "cell_type": "code",
   "execution_count": 128,
   "metadata": {
    "collapsed": false
   },
   "outputs": [
    {
     "name": "stdout",
     "output_type": "stream",
     "text": [
      "(25.32, 25.070586112526826, 0.33077919954673474)\n",
      "(-27.78, -27.778623402356651, 0.27773235305499194)\n",
      "(25.4, 25.548058745736327, 0.087782817183805636)\n",
      "(56.81, 56.808623402356659, 0.18826677881171563)\n"
     ]
    }
   ],
   "source": [
    "print(IAEANO3[\"d18Oacc\"], mean(iaea_d18_corr), std(iaea_d18_corr))\n",
    "print(USGS34[\"d18Oacc\"], mean(us34_d18_corr), std(us34_d18_corr))\n",
    "print(USGS32[\"d18Oacc\"], mean(us32_d18_corr), std(us32_d18_corr))\n",
    "print(USGS35[\"d18Oacc\"], mean(us35_d18_corr), std(us35_d18_corr))"
   ]
  },
  {
   "cell_type": "code",
   "execution_count": 118,
   "metadata": {
    "collapsed": false
   },
   "outputs": [
    {
     "name": "stdout",
     "output_type": "stream",
     "text": [
      "(25.32, 25.087675426405724, 0.32065647540414083)\n",
      "(-27.78, -27.778676519115557, 0.29794539302549605)\n",
      "(25.4, 25.533708534965388, 0.12274933819248704)\n",
      "(56.81, 56.808676519115693, 0.12983878461765577)\n"
     ]
    }
   ],
   "source": [
    "print(IAEANO3[\"d18Oacc\"], mean(iaea_d18_corr), std(iaea_d18_corr))\n",
    "print(USGS34[\"d18Oacc\"], mean(us34_d18_corr), std(us34_d18_corr))\n",
    "print(USGS32[\"d18Oacc\"], mean(us32_d18_corr), std(us32_d18_corr))\n",
    "print(USGS35[\"d18Oacc\"], mean(us35_d18_corr), std(us35_d18_corr))"
   ]
  },
  {
   "cell_type": "code",
   "execution_count": 96,
   "metadata": {
    "collapsed": true
   },
   "outputs": [],
   "source": [
    "for pair in l:\n",
    "    plot(odata[pair, 0], odata[pair, 1], 'kv', alpha=0.8)"
   ]
  },
  {
   "cell_type": "code",
   "execution_count": 272,
   "metadata": {
    "collapsed": false
   },
   "outputs": [],
   "source": [
    "l = []\n",
    "for row in areas:\n",
    "    if row[0][0] == \"USGS35\":\n",
    "        d17 = rtod((row[1][0][1] / r33) / (2*row[1][0][0] / r32 + row[1][0][1] / r33 + row[1][0][2] / r34), SMOW17)\n",
    "        d18 = rtod((row[1][0][2] / r34) / (2*row[1][0][0] / r32 + row[1][0][1] / r33 + row[1][0][2] / r34), SMOW18)\n",
    "        l += [[d17, d18]]\n",
    "        "
   ]
  },
  {
   "cell_type": "code",
   "execution_count": 275,
   "metadata": {
    "collapsed": false,
    "scrolled": true
   },
   "outputs": [
    {
     "data": {
      "text/plain": [
       "[33.599074344230907, 32.538711428646842, 35.21273991133895, 33.565312728260018]"
      ]
     },
     "execution_count": 275,
     "metadata": {},
     "output_type": "execute_result"
    }
   ],
   "source": [
    "[(x[0] - 0.52*x[1]) for x in l]"
   ]
  },
  {
   "cell_type": "code",
   "execution_count": 20,
   "metadata": {
    "collapsed": false
   },
   "outputs": [],
   "source": [
    "fname_1 = \"170228\" + \"_D17O_john_correction.txt\"\n"
   ]
  },
  {
   "cell_type": "code",
   "execution_count": null,
   "metadata": {
    "collapsed": true
   },
   "outputs": [],
   "source": []
  }
 ],
 "metadata": {
  "anaconda-cloud": {},
  "kernelspec": {
   "display_name": "Python [conda root]",
   "language": "python",
   "name": "conda-root-py"
  },
  "language_info": {
   "codemirror_mode": {
    "name": "ipython",
    "version": 2
   },
   "file_extension": ".py",
   "mimetype": "text/x-python",
   "name": "python",
   "nbconvert_exporter": "python",
   "pygments_lexer": "ipython2",
   "version": "2.7.12"
  }
 },
 "nbformat": 4,
 "nbformat_minor": 1
}
