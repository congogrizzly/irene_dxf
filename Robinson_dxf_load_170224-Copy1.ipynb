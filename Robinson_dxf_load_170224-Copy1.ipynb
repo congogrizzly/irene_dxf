{
 "cells": [
  {
   "cell_type": "markdown",
   "metadata": {},
   "source": [
    "### Import necessary packages, define dxf parsing functions"
   ]
  },
  {
   "cell_type": "code",
   "execution_count": 1,
   "metadata": {
    "collapsed": false,
    "scrolled": true
   },
   "outputs": [
    {
     "name": "stdout",
     "output_type": "stream",
     "text": [
      "Using matplotlib backend: Qt5Agg\n",
      "Populating the interactive namespace from numpy and matplotlib\n"
     ]
    }
   ],
   "source": [
    "import re\n",
    "import sys\n",
    "import glob\n",
    "import struct\n",
    "import pandas as pd\n",
    "from scipy.optimize import curve_fit\n",
    "from scipy.special import erf\n",
    "from scipy.stats import linregress\n",
    "from scipy.signal import medfilt\n",
    "\n",
    "%pylab\n",
    "\n",
    "def nullify(s):\n",
    "    \"\"\"Effectively converts UTF-8 encoded text into UTF-16\"\"\"\n",
    "    s2 = \"\\0\".join(list(s)) + \"\\0\"\n",
    "    return s2.encode()\n",
    "\n",
    "def process_line_o2(b):\n",
    "    \"\"\"Returns one 'line' (data point) of oxygen data\"\"\"\n",
    "    return struct.unpack(\"<fddd\", b)\n",
    "\n",
    "def process_line_n2(b):\n",
    "    \"\"\"Returns one 'line' (data point) of nitrogen data\"\"\"\n",
    "    return struct.unpack(\"<fdd\", b)\n",
    "\n",
    "def get_odata(bites, pattern=b\"CEvalGCData\"):\n",
    "    ostart = re.search(pattern, bites)\n",
    "    nions = 3\n",
    "    \n",
    "    # nbytes is the total number of bytes containing time, 3 cups of data\n",
    "    \n",
    "    nbytes = struct.unpack(\"<I\", bites[ostart.end() + 4:ostart.end() + 8])[0]\n",
    "    no = nbytes / (4 + 8 * nions)\n",
    "    odata = []\n",
    "    for i in range(no):\n",
    "        line = bites[ostart.end() + 28*i + 8: ostart.end() + 8 + 28*(i+1)]\n",
    "        odata += [process_line_o2(line)]\n",
    "    return array(odata)\n",
    "\n",
    "def get_ndata(bites, pattern=b\"CStringArray.+N\\0002\\0\"):\n",
    "    \n",
    "    nstart = re.search(pattern, bites)\n",
    "    nbytes = struct.unpack(\"<I\", bites[nstart.end() + 22:nstart.end() + 26])[0]\n",
    "    nions = 2\n",
    "    nlines = nbytes / (4 + 8 * nions)\n",
    "    ndata = []\n",
    "    for i in range(nlines):\n",
    "        line = bites[nstart.end() + 26 + i*20: nstart.end() + 26 + 20*(i+1)]\n",
    "        ndata += [process_line_n2(line)]\n",
    "    return array(ndata)\n",
    "\n",
    "# Define the peakfinding function\n",
    "\n",
    "def peakfind(data, riselim, decay_start, decay_end, offset):\n",
    "    \"\"\"Peak finding code that uses slopes of peaks for definition\"\"\"\n",
    "    grad = gradient(data)\n",
    "    downgrad = gradient(data, 5)\n",
    "    l2 = []\n",
    "    started = 0\n",
    "    decaying = 0\n",
    "    for i in range(len(grad)):\n",
    "        if not started:\n",
    "            if grad[i] > riselim:\n",
    "                l2 += [i]\n",
    "                started = 1\n",
    "        elif started and grad[i] > riselim:\n",
    "            continue\n",
    "        elif grad[i] < decay_start and started and not decaying:\n",
    "            decaying = 1\n",
    "        elif started and decaying and downgrad[i] > decay_end:\n",
    "            l2 += [i]\n",
    "            started = 0\n",
    "            decaying = 0\n",
    "            return array(l2) + offset\n",
    "\n",
    "\n",
    "def rtod(ratio, std):\n",
    "    \"\"\"Helper function that converts ratios to del values\"\"\"\n",
    "    ratio = array(ratio)\n",
    "    return ((ratio / std) - 1) * 1000\n",
    "\n",
    "def dtor(delta, std):\n",
    "    \"\"\"Helper function to convert from del values to a ratio\"\"\"\n",
    "    delta = array(delta)\n",
    "    return (delta / 1000 + 1) * std\n",
    "\n",
    "def corr(corrline, r, std):\n",
    "    \"\"\"Helper function to corect ratios based on a correction line\"\"\"\n",
    "    r = array(r)\n",
    "    corrected_ratio = r*corrline[0] + corrline[1]\n",
    "    return rtod(corrected_ratio, std)\n",
    "\n",
    "def keysearch(search, data):\n",
    "    \"\"\"Function that searches dictionary for particular keys\"\"\"\n",
    "    l = []\n",
    "    for key in data.keys():\n",
    "        if search(key):\n",
    "            l += [key]\n",
    "    return l\n",
    "\n",
    "def D17O_excess(d17, d18, factor=0.52):\n",
    "    \"\"\"\n",
    "    Calculate the O-17 excess given d18 and d17 data\n",
    "    \n",
    "    inputs\n",
    "    ------\n",
    "    d17 : array of floats\n",
    "    d18 : array of floats\n",
    "    factor : float\n",
    "    \"\"\"\n",
    "    return d17 - factor * d18\n",
    "\n",
    "def set_color(s):\n",
    "    if s in [\"USGS34\"]:\n",
    "        return 'magenta'\n",
    "    elif s in [\"USGS35\"]:\n",
    "        return 'red'\n",
    "    elif s in [\"USGS32\"]:\n",
    "        return 'Chartreuse'\n",
    "    elif s in [\"IAEANO3\"]:\n",
    "        return 'yellow'\n",
    "    else: \n",
    "        return 'k'\n",
    "    \n",
    "def savestuff(fname, l):\n",
    "    with open(fname, 'w') as f:\n",
    "        for line in l:\n",
    "            s = \"\\t\".join(line)\n",
    "            f.write(s + \"\\n\")\n",
    "        f.close()"
   ]
  },
  {
   "cell_type": "markdown",
   "metadata": {},
   "source": [
    "### Standards data\n",
    "rXX values are resistor values for a given mass XX"
   ]
  },
  {
   "cell_type": "code",
   "execution_count": 2,
   "metadata": {
    "collapsed": true
   },
   "outputs": [],
   "source": [
    "irene_standards_date = 'Irene Standards as of: 161121'\n",
    "SMOW17 = 0.0003799 # The 17O/16O ratio of SMOW, from Li et al., 1988\n",
    "SMOW18 = 0.0020052 # The 18O/16O ratio of SMOW, from Baertschi 1976\n",
    "air15 = 0.0036782 # The 15N/14N ratio of air, from De Bievre et al., 1996\n",
    "\n",
    "IAEANO3 = {'name':'IAEANO3','material':'potassium nitrate','index':[],'d15Nacc':4.72,'d18Oacc':25.32,'d17Oacc':nan,'D17Oacc':-0.18,'notes':'d15N according to Bohlke and Coplen 1993, d18O according to Brand et al. 2009, D17O according to Michalski et al. 2002, d17O calculated from d18O and D17O using 0.52*USGS35[\"d18Oacc\"]+USGS35[\"D17Oacc]'}\n",
    "IAEANO3[\"d17Oacc\"] = 0.52*IAEANO3[\"d18Oacc\"]+IAEANO3[\"D17Oacc\"]\n",
    "USGS35 = {'name':'USGS35','material':'sodium nitrate','index':[],'d15Nacc':2.7,'d18Oacc':56.81,'d17Oacc':nan,'D17Oacc':21.56,'notes':'d15N according to Bohlke et al. 2003, d18O according to Brand et al. 2009, D17O according to Michalski et al. 2002, d17O calculated from d18O and D17O using 0.52*USGS35[\"d18Oacc\"]+USGS35[\"D17Oacc\"]'}\n",
    "USGS35[\"d17Oacc\"] = 0.52*USGS35[\"d18Oacc\"]+USGS35[\"D17Oacc\"]\n",
    "USGS35[\"alpha\"] = log(1+USGS35[\"d17Oacc\"]/1000)/log(1+USGS35[\"d18Oacc\"]/1000)\n",
    "USGS34 = {'name':'USGS34','material':'potassium nitrate','index':[],'d15Nacc':-1.8,'d18Oacc':-27.78,'d17Oacc':nan,'D17Oacc':-0.1,'notes':'d15N according to Bohlke et al. 2003, d18O according to Brand et al. 2009, D17O according to Bohlke et al. 2002'}\n",
    "USGS34[\"d17Oacc\"] = 0.52*USGS34[\"d18Oacc\"]+USGS34[\"D17Oacc\"]\n",
    "USGS32 = {'name':'USGS32','material':'potassium nitrate','index':[],'d15Nacc':180,'d18Oacc':25.4,'d17Oacc':nan,'D17Oacc':-0.2,'notes':'d15N acc\"]ording to Bohlke and Coplen 1993, d18O acc\"]ording to Brand et al. 2009, D17O assumed to be -0.2, d17O calculated from that]'}\n",
    "USGS32[\"d17Oacc\"] = 0.52*USGS32[\"d18Oacc\"]+USGS32[\"D17Oacc\"]\n",
    "\n",
    "# Reference gases\n",
    "d17O_ref_measured = 11.310 # vs. VSMOW\n",
    "d18O_ref_measured = 22.120 # vs. VSMOW\n",
    "\n",
    "r17O_ref_measured = dtor(d17O_ref_measured, SMOW17)\n",
    "r18O_ref_measured = dtor(d18O_ref_measured, SMOW18)\n",
    "\n",
    "r32 = 300e6\n",
    "r33 = 300e9\n",
    "r34 = 100e9\n",
    "r28 = 300e6\n",
    "r29 = (300e9**-1 + 30e9 ** -1)**-1\n"
   ]
  },
  {
   "cell_type": "markdown",
   "metadata": {},
   "source": [
    "### Load data files"
   ]
  },
  {
   "cell_type": "code",
   "execution_count": 4,
   "metadata": {
    "collapsed": false
   },
   "outputs": [
    {
     "name": "stderr",
     "output_type": "stream",
     "text": [
      "C:\\Users\\uwisolab\\Anaconda2\\lib\\site-packages\\ipykernel\\__main__.py:47: FutureWarning: comparison to `None` will result in an elementwise object comparison in the future.\n"
     ]
    },
    {
     "name": "stdout",
     "output_type": "stream",
     "text": [
      "('41649', 14.644136026411125, 28.344214091709176, -0.094855301277647186, 27813.148351289026)\n",
      "('41650', 58.605300121596038, 75.346738152914483, 19.424996282080507, 19342.604246525789)\n",
      "('41651', 24.947136573278073, 47.834413102489478, 0.07324175998354221, 19601.055127307132)\n",
      "('41652', -0.48705608162280534, -0.82897716971663815, -0.055987953370153498, 19537.486472820525)\n",
      "('41653', 23.006516444448401, 44.958837752066884, -0.37207918662637951, 19273.318565601614)\n",
      "('41654', 1.378074835642451, -9.31686161517964, 6.2228428755358642, 389.60658997271435)\n",
      "('41655', 58.208624468076394, 74.953710446034279, 19.232695036138566, 17293.356417373652)\n",
      "('41656', 25.020187048149012, 47.780527510651538, 0.17431274261021201, 19467.729764277348)\n",
      "('41657', -0.62880415767829767, -1.1650695086444784, -0.022968013183168878, 19601.634697380872)\n",
      "('41658', 23.635782150946749, 45.563900517346937, -0.057446118073659846, 20775.472753218593)\n",
      "('41659', 75.721759980743599, 91.822183317529891, 27.974224655628056, 21904.207927041436)\n",
      "('41660', 77.621295922463801, 93.465940297044583, 29.019006968000618, 20959.648509213996)\n",
      "('41661', 77.486612362684724, 93.025523631897528, 29.113340074098005, 21104.983612867112)\n",
      "('41662', 77.818391308712705, 93.702634773281886, 29.093021226606126, 21121.889399958636)\n",
      "('41663', 77.383776582761854, 92.572792528520239, 29.245924467931331, 18178.605814715575)\n",
      "('41664', 59.752373536633655, 77.140036947909167, 19.639554323720887, 19179.55164611094)\n",
      "('41665', 25.153505931885924, 47.229644333049549, 0.59409087870015753, 17498.76295363397)\n",
      "('41666', -0.67987411582604018, -0.99496795023912288, -0.16249078170169629, 21098.478689655582)\n",
      "('41667', 23.410489845446136, 45.003055457008891, 0.0089010078015121508, 18882.497138634775)\n",
      "('41668', 76.957022156720839, 92.75779687079644, 28.722967783906689, 19976.524641716387)\n",
      "('41669', 76.48522922484679, 91.446951446695564, 28.932814472565099, 19229.382703162039)\n",
      "('41670', 78.935864927518921, 95.235848568027365, 29.413223672144689, 24169.694667161719)\n",
      "('41671', 78.879826407094228, 94.785445831879983, 29.591394574516634, 21993.904235588558)\n",
      "('41672', 76.613743407603522, 91.620384124107218, 28.971143663067764, 20287.875964770348)\n",
      "('41673', 79.270537090341492, 95.343911102589104, 29.691703316995159, 22583.418839451449)\n",
      "('41674', 78.958883225392682, 94.905172549032855, 29.608193499895599, 20882.234826363361)\n",
      "('41675', 78.887331389717147, 94.238837844007776, 29.883135710833102, 21737.61761791529)\n",
      "('41676', 60.260015483440732, 77.084042479472544, 20.176313394115006, 18844.177378908491)\n",
      "('41677', 25.794566672303844, 48.851963180506885, 0.39154581844026382, 21096.34982378962)\n",
      "('41678', -0.33879954967230841, -0.95406880788739823, 0.15731623042913867, 17201.305737226998)\n",
      "('41679', 23.56413882176156, 45.736845135864847, -0.21902064888816142, 18634.643825596588)\n",
      "('41680', 77.298582994439485, 92.613935884019668, 29.13933633474926, 21827.944438921193)\n",
      "('41681', 78.807227683079134, 95.165153460154755, 29.321347883798659, 20537.593622808556)\n",
      "('41682', 81.176809825547423, 97.811072310899803, 30.315052223879526, 22238.896603455632)\n",
      "('41683', 74.064780601617258, 93.03013012948557, 25.689112934284758, 28600.33645481681)\n",
      "('41684', 60.829968852372133, 78.17438105835906, 20.179290702025419, 20672.723220408247)\n",
      "('41685', 1.4420942818671456, 1.0291375508484357, 0.90694275542595904, 17504.860167068702)\n",
      "('41686', 24.396967111891541, 47.163882100142331, -0.12825158018247151, 21053.332369284777)\n",
      "('41687', 23.923398501012329, 46.901721896723146, -0.46549688528370581, 17181.337344958611)\n",
      "('41688', 14.85472433998658, 29.000220741027594, -0.22539044534776842, 26567.445397988839)\n"
     ]
    }
   ],
   "source": [
    "fname = \"170909_WAIS_Robinson_160805\"\n",
    "path = \"S:/Data/projects/Robinson_WAIS/dxf/170909_WAIS_Robinson_160805/\"\n",
    "files = glob.glob(path + \"*dxf\")\n",
    "fname_1 = fname + \".txt\"\n",
    "plotall = True\n",
    "df = pd.DataFrame()\n",
    "\n",
    "data = []\n",
    "for fid in files:\n",
    "    \n",
    "    bites = None\n",
    "    fullname = re.split(r\"[\\\\|\\.]\", fid)[-2]\n",
    "    #print(fullname)\n",
    "    #print(re.split(r\"[__|\\-]\", fullname))\n",
    "    run, blah, samp, blah2 = re.split(r\"[__|\\-]\", fullname)\n",
    "    with open(fid, 'rb') as f:\n",
    "        bites = f.read()\n",
    "    odata = get_odata(bites)\n",
    "    ndata = get_ndata(bites)\n",
    "    data += [[(samp, run), (odata, ndata)]]\n",
    "    \n",
    "d = {key: value for (key, value) in data}\n",
    "keys = []\n",
    "for key in d.keys():\n",
    "    if \"USGS35\" in key:\n",
    "        keys += [key]\n",
    "keys\n",
    "\n",
    "\n",
    "out = {}\n",
    "keys = sorted(d.keys(), key=lambda x: int(x[1]))\n",
    "for key in keys:\n",
    "    #print(key)\n",
    "    if plotall:\n",
    "        fig, ax = subplots()\n",
    "        fig.canvas.set_window_title(key[1] + \": \" + key[0])\n",
    "        ax.set_xlim(0, 180)\n",
    "        ax.set_ylim(0, 10000)\n",
    "    odata = d[key][0]\n",
    "    \n",
    "    grad = gradient(odata[:, 1])\n",
    "    ref_search_start = 40*5\n",
    "    sample_search_start = 140*5\n",
    "    refpeak = peakfind(odata[ref_search_start:, 2],  0.5, -5, -0.05, ref_search_start)\n",
    "    samppeak = peakfind(odata[sample_search_start:, 1],  0.5, -5, -0.05, sample_search_start)\n",
    "    \n",
    "    if samppeak == None:\n",
    "        print(\"Blank sample: \", key)\n",
    "        continue\n",
    "    \n",
    "    ref_bk_end = refpeak[0] - 5*5\n",
    "    ref_bk_start = refpeak[0] - (35 + 20*5)\n",
    "    \n",
    "    samp_bk_start = samppeak[0] - (35 + 20*5)\n",
    "    samp_bk_end = samppeak[0] - 10*5\n",
    "    \n",
    "    \n",
    "    #print(odata[(samp_bk_start, samp_bk_end), 0])\n",
    "\n",
    "    t0_ref = odata[ref_bk_start, 0]\n",
    "    ref_bk_32_fit = polyfit(odata[ref_bk_start:ref_bk_end, 0] - t0_ref, medfilt(odata[ref_bk_start:ref_bk_end, 1], 13), 2)\n",
    "    ref_bk_33_fit = polyfit(odata[ref_bk_start:ref_bk_end, 0] - t0_ref, medfilt(odata[ref_bk_start:ref_bk_end, 2], 13), 1)\n",
    "    ref_bk_34_fit = polyfit(odata[ref_bk_start:ref_bk_end, 0] - t0_ref, medfilt(odata[ref_bk_start:ref_bk_end, 3], 13), 2)\n",
    "    \n",
    "    t0_samp = odata[samp_bk_start, 0]\n",
    "    samp_bk_32_fit = polyfit(odata[samp_bk_start:samp_bk_end, 0] - t0_samp, medfilt(odata[samp_bk_start:samp_bk_end, 1], 13), 2)\n",
    "    samp_bk_33_fit = polyfit(odata[samp_bk_start:samp_bk_end, 0] - t0_samp, medfilt(odata[samp_bk_start:samp_bk_end, 2], 13), 1)\n",
    "    samp_bk_34_fit = polyfit(odata[samp_bk_start:samp_bk_end, 0] - t0_samp, medfilt(odata[samp_bk_start:samp_bk_end, 3], 13), 2)\n",
    "    \n",
    "    ref_bk_fits = [ref_bk_32_fit, ref_bk_33_fit, ref_bk_34_fit]\n",
    "    samp_bk_fits = [samp_bk_32_fit, samp_bk_33_fit, samp_bk_34_fit]\n",
    "    \n",
    "    x0_ref = odata[ref_bk_start:refpeak[1], 0] - t0_ref\n",
    "    ref_fits = [polyval(fit, x0_ref) for fit in ref_bk_fits]\n",
    "    x0_samp = odata[samp_bk_start:samppeak[1], 0] - t0_samp\n",
    "    samp_fits = [polyval(fit, x0_samp) for fit in samp_bk_fits]\n",
    "    \n",
    "    if plotall: \n",
    "\n",
    "        plot(odata[:, 0], odata[:, 1])\n",
    "        plot(odata[:, 0], odata[:, 2])\n",
    "        plot(odata[:, 0], odata[:, 3])\n",
    "\n",
    "        plot(x0_ref + t0_ref, ref_fits[0])\n",
    "        plot(x0_ref + t0_ref, ref_fits[1])\n",
    "        plot(x0_ref + t0_ref, ref_fits[2])\n",
    "\n",
    "        plot(x0_samp + t0_samp, samp_fits[0])\n",
    "        plot(x0_samp + t0_samp, samp_fits[1])\n",
    "        plot(x0_samp + t0_samp, samp_fits[2])\n",
    "\n",
    "        plot(odata[samppeak, 0], odata[samppeak, 1], 'kv')\n",
    "        plot(odata[refpeak, 0], odata[refpeak, 1], 'kv')\n",
    "    \n",
    "    a32_ref = trapz(odata[refpeak[0]:refpeak[1], 1] - ref_fits[0][refpeak[0] - ref_bk_start], odata[refpeak[0]:refpeak[1], 0])\n",
    "    a33_ref = trapz(odata[refpeak[0]:refpeak[1], 2] - ref_fits[1][refpeak[0] - ref_bk_start], odata[refpeak[0]:refpeak[1], 0])\n",
    "    a34_ref = trapz(odata[refpeak[0]:refpeak[1], 3] - ref_fits[2][refpeak[0] - ref_bk_start], odata[refpeak[0]:refpeak[1], 0])\n",
    "    r17_ref = (a33_ref/r33) / (2*a32_ref/r32 + a33_ref/r33 + a34_ref/r34)\n",
    "    r18_ref = (a34_ref/r34) / (2*a32_ref/r32 + a33_ref/r33 + a34_ref/r34)\n",
    "    acorr_33 = r17O_ref_measured / r17_ref\n",
    "    acorr_34 = r18O_ref_measured / r18_ref\n",
    "      \n",
    "    a32 = trapz(odata[samppeak[0]:samppeak[1], 1] - samp_fits[0][samppeak[0] - samp_bk_start], odata[samppeak[0]:samppeak[1], 0])\n",
    "    a33 = trapz(odata[samppeak[0]:samppeak[1], 2] - samp_fits[1][samppeak[0] - samp_bk_start], odata[samppeak[0]:samppeak[1], 0])\n",
    "    a34 = trapz(odata[samppeak[0]:samppeak[1], 3] - samp_fits[2][samppeak[0] - samp_bk_start], odata[samppeak[0]:samppeak[1], 0])\n",
    "    \n",
    "    #print(\"raw Reference peak areas: \", a32_ref, a33_ref, a34_ref)\n",
    "    #print(\"raw Sample peak areas:\", a32, a33, a34)\n",
    "    \n",
    "    r17 = acorr_33*(a33/r33) / (2*a32/r32 + a33/r33 + a34/r34)\n",
    "    r18 = acorr_34*(a34/r34) / (2*a32/r32 + a33/r33 + a34/r34)\n",
    "    r17_uncorr = (a33/r33) / (2*a32/r32 + a33/r33 + a34/r34)\n",
    "    r18_uncorr = (a34/r34) / (2*a32/r32 + a33/r33 + a34/r34)\n",
    "    \n",
    "    d17O_ref = rtod(r17_ref, SMOW17)\n",
    "    d18O_ref = rtod(r18_ref, SMOW18)\n",
    "    D17O_ref = d17O_ref - 0.52*d18O_ref\n",
    "\n",
    "    d17O = rtod(r17, SMOW17)\n",
    "    d18O = rtod(r18, SMOW18)\n",
    "    D17O = d17O - 0.52*d18O\n",
    "    \n",
    "    d17O_uc = rtod(r17_uncorr, SMOW17)\n",
    "    d18O_uc = rtod(r18_uncorr, SMOW18)\n",
    "    D17O_uc = D17O_excess(d17O_uc, d18O_uc)\n",
    "    print(key[1], d17O, d18O, D17O, a32)\n",
    "\n",
    "    \n",
    "    d_refs = [d17O_ref, d18O_ref, D17O_ref]\n",
    "    d_samp = [d17O, d18O, D17O]\n",
    "    out[key] = {\"refdata\": {\"d17O\": d17O_ref, \"d18O\": d18O_ref, \"D17O\": D17O_ref, \"r17O\": r17_ref, \"r18O\": r18_ref}, \n",
    "                \"sampdata\": {\"d17O\": d17O, \"d18O\": d18O, \"D17O\": D17O, \"r17O\": r17, \"r18O\": r18},\n",
    "                \"samp_noref\": {\"d17O\" : d17O_uc, \"d18O\": d18O_uc, \"D17O\": D17O_uc, \"r17O\": r17_uncorr, \"r18O\": r18_uncorr}}\n",
    "\n",
    "    #print(\"Reference del values: \", d17O_ref, d18O_ref, D17O_ref)\n",
    "    #print(\"Sample raw del values: \", d17O, d18O, D17O)\n",
    "\n",
    "    #def O_calibrate(data):\n",
    "data = out\n",
    "stand_34 = keysearch(lambda x: \"USGS34\" in x, out)\n",
    "stand_35 = keysearch(lambda x: \"USGS35\" in x, out)\n",
    "stand_IA = keysearch(lambda x: \"IAEANO3\" in x, out)\n",
    "stand_32 = keysearch(lambda x: \"USGS32\" in x, out)\n",
    "\n",
    "us34_r17 = []\n",
    "us34_r18 = []\n",
    "us35_r17 = []\n",
    "us35_r18 = []\n",
    "iaea_r17 = []\n",
    "iaea_r18 = []\n",
    "us32_r17 = []\n",
    "us32_r18 = []\n",
    "\n",
    "for key in stand_34:\n",
    "    us34_r17 += [data[key][\"sampdata\"][\"r17O\"]]\n",
    "    us34_r18 += [data[key][\"sampdata\"][\"r18O\"]]\n",
    "for key in stand_35:\n",
    "    us35_r17 += [data[key][\"sampdata\"][\"r17O\"]]\n",
    "    us35_r18 += [data[key][\"sampdata\"][\"r18O\"]]    \n",
    "for key in stand_IA:\n",
    "    iaea_r17 += [data[key][\"sampdata\"][\"r17O\"]]\n",
    "    iaea_r18 += [data[key][\"sampdata\"][\"r18O\"]]\n",
    "for key in stand_32:\n",
    "    us32_r17 += [data[key][\"sampdata\"][\"r17O\"]]\n",
    "    us32_r18 += [data[key][\"sampdata\"][\"r18O\"]]    \n",
    "    \n",
    "    \n",
    "\n",
    "all_r17 = concatenate((array(us34_r17), array(us35_r17)))\n",
    "all_r18 = concatenate((array(us34_r18), array(us35_r18)))\n",
    "us35_D17O = D17O_excess(rtod(array(us35_r17), SMOW17),rtod(array(us35_r18), SMOW18))\n",
    "us34_D17O = D17O_excess(rtod(array(us34_r17), SMOW17),rtod(array(us34_r18), SMOW18))\n",
    "all_D17O = concatenate((us34_D17O, us35_D17O))\n",
    "                                                \n",
    "\n",
    "u34_r17acc = dtor(USGS34[\"d17Oacc\"], SMOW17)\n",
    "u34_r18acc = dtor(USGS34[\"d18Oacc\"], SMOW18)\n",
    "\n",
    "u35_r17acc = dtor(USGS35[\"d17Oacc\"], SMOW17)\n",
    "u35_r18acc = dtor(USGS35[\"d18Oacc\"], SMOW18)\n",
    "                        \n",
    "u35_D17acc = USGS35[\"D17Oacc\"]\n",
    "u34_D17acc = USGS34[\"D17Oacc\"]\n",
    "\n",
    "all_acc_r17 = concatenate((ones_like(us34_r17) * u34_r17acc, ones_like(us35_r17) * u35_r17acc))\n",
    "all_acc_r18 = concatenate((ones_like(us34_r18) * u34_r18acc, ones_like(us35_r18) * u35_r18acc))\n",
    "all_acc_D17O = concatenate((ones_like(us34_r18) * u34_D17acc, ones_like(us35_r18) * u35_D17acc))\n",
    "\n",
    "corrline_r17 = linregress(all_r17, all_acc_r17)\n",
    "corrline_r18 = linregress(all_r18, all_acc_r18)\n",
    "corrline_D17 = linregress(all_D17O, all_acc_D17O)\n",
    "\n",
    "\n",
    "x17 = linspace(.99, 1.1, 111) * SMOW17\n",
    "x18 = linspace(.99, 1.1, 111) * SMOW18\n",
    "xD17 = linspace(-5, 40, 46)\n",
    "\n",
    "fig_d17, ax_d17 = subplots()\n",
    "fig_d18, ax_d18 = subplots()\n",
    "fig_D17, ax_D17 = subplots()\n",
    "fig_D17O, ax_D17O = subplots()\n",
    "\n",
    "\n",
    "ax_d17.plot(rtod(x17, SMOW17), rtod((corrline_r17[0]*x17 +  corrline_r17[1]), SMOW17))\n",
    "ax_d18.plot(rtod(x18, SMOW18), rtod((corrline_r18[0]*x18 +  corrline_r18[1]), SMOW18))\n",
    "ax_D17.plot(D17O_excess(rtod(x17, SMOW17),rtod(x18, SMOW18)), D17O_excess(corr(corrline_r17, x17, SMOW17), corr(corrline_r18, x18, SMOW18)))\n",
    "ax_D17O.plot(xD17, corrline_D17[0]*xD17 + corrline_D17[1])\n",
    "                        \n",
    "ll = []\n",
    "for x in sorted(out.items(), key=lambda x: x[0][1]):\n",
    "    color = set_color(x[0][0])\n",
    "    d17 = x[1][\"sampdata\"][\"d17O\"]\n",
    "    d18 = x[1][\"sampdata\"][\"d18O\"]\n",
    "    d17O_corr = corr(corrline_r17, x[1][\"sampdata\"][\"r17O\"], SMOW17)\n",
    "    d18O_corr = corr(corrline_r18, x[1][\"sampdata\"][\"r18O\"], SMOW18)\n",
    "    D17O_corr = D17O_excess(d17O_corr, d18O_corr)\n",
    "    D17O_corr2 = corrline_D17[0]*D17O_excess(d17, d18) + corrline_D17[1]\n",
    "    ax_d17.plot(x[1][\"sampdata\"][\"d17O\"], d17O_corr, 'o', color=color, label=x[0][0])\n",
    "    ax_d18.plot(x[1][\"sampdata\"][\"d18O\"], d18O_corr, 'o', color=color, label=x[0][0])\n",
    "    ax_D17.plot(D17O_excess(d17, d18), D17O_corr, 'o',color=color, label=x[0][0])\n",
    "    ax_D17O.plot(D17O_excess(d17, d18), D17O_corr, 'o',color=color, label=x[0][0])\n",
    "                        \n",
    "    ll += [[x[0][0], str(D17O_corr)]]\n",
    "    #print(x[0], D17O_corr)\n",
    "\n",
    "#savestuff(fname_1, ll)\n"
   ]
  },
  {
   "cell_type": "code",
   "execution_count": 6,
   "metadata": {
    "collapsed": true
   },
   "outputs": [],
   "source": [
    "df = pd.DataFrame(out)"
   ]
  },
  {
   "cell_type": "code",
   "execution_count": 5,
   "metadata": {
    "collapsed": false
   },
   "outputs": [],
   "source": [
    "from collections import defaultdict"
   ]
  },
  {
   "cell_type": "raw",
   "metadata": {},
   "source": [
    "dd"
   ]
  },
  {
   "cell_type": "code",
   "execution_count": 6,
   "metadata": {
    "collapsed": false
   },
   "outputs": [],
   "source": [
    "dd = defaultdict(list)"
   ]
  },
  {
   "cell_type": "code",
   "execution_count": 7,
   "metadata": {
    "collapsed": false
   },
   "outputs": [
    {
     "name": "stdout",
     "output_type": "stream",
     "text": [
      "['N2OinHe', '-0.324020922591']\n",
      "N2OinHe\n",
      "['USGS35', '21.2080898233']\n",
      "USGS35\n",
      "['USGS32', '-0.107564466853']\n",
      "USGS32\n",
      "['USGS34', '-0.328731114333']\n",
      "USGS34\n",
      "['IAEANO3', '-0.601724488316']\n",
      "IAEANO3\n",
      "['Blank', '6.55898877054']\n",
      "Blank\n",
      "['USGS35', '20.9960785049']\n",
      "USGS35\n",
      "['USGS32', '0.00344239832416']\n",
      "USGS32\n",
      "['USGS34', '-0.292982939648']\n",
      "USGS34\n",
      "['IAEANO3', '-0.254904612188']\n",
      "IAEANO3\n",
      "['3062', '30.6319563654']\n",
      "3062\n",
      "['3063', '31.7830252356']\n",
      "3063\n",
      "['3064', '31.8859975567']\n",
      "3064\n",
      "['3065', '31.8647645336']\n",
      "3065\n",
      "['3066', '32.0309946317']\n",
      "3066\n",
      "['USGS35', '21.44684188']\n",
      "USGS35\n",
      "['USGS32', '0.463955444537']\n",
      "USGS32\n",
      "['USGS34', '-0.446066009372']\n",
      "USGS34\n",
      "['IAEANO3', '-0.182889521996']\n",
      "IAEANO3\n",
      "['3067', '31.456475655']\n",
      "3067\n",
      "['3068', '31.6850021528']\n",
      "3068\n",
      "['3069', '32.2192151803']\n",
      "3069\n",
      "['3070', '32.4143234919']\n",
      "3070\n",
      "['3071', '31.727414538']\n",
      "3071\n",
      "['3072', '32.5254881328']\n",
      "3072\n",
      "['3073', '32.4329830754']\n",
      "3073\n",
      "['3074', '32.7341086993']\n",
      "3074\n",
      "['USGS35', '22.0367418192']\n",
      "USGS35\n",
      "['USGS32', '0.243961116686']\n",
      "USGS32\n",
      "['USGS34', '-0.0944763377628']\n",
      "USGS34\n",
      "['IAEANO3', '-0.432221757123']\n",
      "IAEANO3\n",
      "['3103', '31.9139027472']\n",
      "3103\n",
      "['3220', '32.1181128694']\n",
      "3220\n",
      "['3035', '33.2146676163']\n",
      "3035\n",
      "['South Pole', '28.1221876542']\n",
      "South Pole\n",
      "['USGS35', '22.0417871555']\n",
      "USGS35\n",
      "['USGS34', '0.73271721821']\n",
      "USGS34\n",
      "['USGS32', '-0.330130672524']\n",
      "USGS32\n",
      "['IAEANO3', '-0.701247785799']\n",
      "IAEANO3\n",
      "['N2OinHe', '-0.466435016197']\n",
      "N2OinHe\n"
     ]
    }
   ],
   "source": [
    "for x in ll:\n",
    "    print(x)\n",
    "    print(x[0])\n",
    "    dd[x[0]] += [float(x[1])]"
   ]
  },
  {
   "cell_type": "code",
   "execution_count": 33,
   "metadata": {
    "collapsed": false
   },
   "outputs": [
    {
     "data": {
      "text/plain": [
       "defaultdict(list,\n",
       "            {'IAEANO3': [-0.39606141774,\n",
       "              0.22761681826,\n",
       "              0.0337245815528,\n",
       "              -0.0438122206194,\n",
       "              0.468606127175],\n",
       "             'N2OinHe': [-0.367656936408,\n",
       "              -0.394076161715,\n",
       "              0.0832373126584,\n",
       "              -0.226824980691,\n",
       "              -0.195759345414],\n",
       "             'USGS32': [-0.22737724046,\n",
       "              -0.673396152588,\n",
       "              -0.233686933944,\n",
       "              0.461240639461,\n",
       "              -0.0933969936811],\n",
       "             'USGS34': [0.416350391402,\n",
       "              -0.469061615024,\n",
       "              -0.1902788635,\n",
       "              -0.103047053416,\n",
       "              -0.128900418911],\n",
       "             'USGS35': [21.9863814951,\n",
       "              21.7872899048,\n",
       "              21.4281756777,\n",
       "              21.410654782,\n",
       "              21.1624356999],\n",
       "             'blank': [7.34049608975,\n",
       "              7.90635369421,\n",
       "              4.84413551024,\n",
       "              4.17448191094,\n",
       "              -2.9594554341]})"
      ]
     },
     "execution_count": 33,
     "metadata": {},
     "output_type": "execute_result"
    }
   ],
   "source": [
    "dd"
   ]
  },
  {
   "cell_type": "code",
   "execution_count": 12,
   "metadata": {
    "collapsed": false
   },
   "outputs": [
    {
     "data": {
      "text/plain": [
       "0.19732505639957235"
      ]
     },
     "execution_count": 12,
     "metadata": {},
     "output_type": "execute_result"
    }
   ],
   "source": [
    "std(dd[\"IAEANO3\"])"
   ]
  },
  {
   "cell_type": "code",
   "execution_count": 122,
   "metadata": {
    "collapsed": false
   },
   "outputs": [
    {
     "name": "stdout",
     "output_type": "stream",
     "text": [
      "(-0.18, -0.26733902014754785, 0.70829087752824138)\n",
      "(-0.1, -0.099694457584398322, 0.18854199338358232)\n",
      "(-0.2, -0.85767031816077244, 0.084979495140161676)\n",
      "(21.56, 21.559694457584197, 0.28660181635172899)\n"
     ]
    }
   ],
   "source": [
    "print(IAEANO3[\"D17Oacc\"], mean(iaea_D17_corr), std(iaea_D17_corr))\n",
    "print(USGS34[\"D17Oacc\"], mean(us34_D17_corr), std(us34_D17_corr))\n",
    "print(USGS32[\"D17Oacc\"], mean(us32_D17_corr), std(us32_D17_corr))\n",
    "print(USGS35[\"D17Oacc\"], mean(us35_D17_corr), std(us35_D17_corr))"
   ]
  },
  {
   "cell_type": "code",
   "execution_count": 10,
   "metadata": {
    "collapsed": false
   },
   "outputs": [
    {
     "ename": "NameError",
     "evalue": "name 'iaea_D17_corr' is not defined",
     "output_type": "error",
     "traceback": [
      "\u001b[0;31m---------------------------------------------------------------------------\u001b[0m",
      "\u001b[0;31mNameError\u001b[0m                                 Traceback (most recent call last)",
      "\u001b[0;32m<ipython-input-10-2c06caf24765>\u001b[0m in \u001b[0;36m<module>\u001b[0;34m()\u001b[0m\n\u001b[0;32m----> 1\u001b[0;31m \u001b[1;32mprint\u001b[0m\u001b[1;33m(\u001b[0m\u001b[0mIAEANO3\u001b[0m\u001b[1;33m[\u001b[0m\u001b[1;34m\"D17Oacc\"\u001b[0m\u001b[1;33m]\u001b[0m\u001b[1;33m,\u001b[0m \u001b[0mmean\u001b[0m\u001b[1;33m(\u001b[0m\u001b[0miaea_D17_corr\u001b[0m\u001b[1;33m)\u001b[0m\u001b[1;33m,\u001b[0m \u001b[0mstd\u001b[0m\u001b[1;33m(\u001b[0m\u001b[0miaea_D17_corr\u001b[0m\u001b[1;33m)\u001b[0m\u001b[1;33m)\u001b[0m\u001b[1;33m\u001b[0m\u001b[0m\n\u001b[0m\u001b[1;32m      2\u001b[0m \u001b[1;32mprint\u001b[0m\u001b[1;33m(\u001b[0m\u001b[0mUSGS34\u001b[0m\u001b[1;33m[\u001b[0m\u001b[1;34m\"D17Oacc\"\u001b[0m\u001b[1;33m]\u001b[0m\u001b[1;33m,\u001b[0m \u001b[0mmean\u001b[0m\u001b[1;33m(\u001b[0m\u001b[0mus34_D17_corr\u001b[0m\u001b[1;33m)\u001b[0m\u001b[1;33m,\u001b[0m \u001b[0mstd\u001b[0m\u001b[1;33m(\u001b[0m\u001b[0mus34_D17_corr\u001b[0m\u001b[1;33m)\u001b[0m\u001b[1;33m)\u001b[0m\u001b[1;33m\u001b[0m\u001b[0m\n\u001b[1;32m      3\u001b[0m \u001b[1;32mprint\u001b[0m\u001b[1;33m(\u001b[0m\u001b[0mUSGS32\u001b[0m\u001b[1;33m[\u001b[0m\u001b[1;34m\"D17Oacc\"\u001b[0m\u001b[1;33m]\u001b[0m\u001b[1;33m,\u001b[0m \u001b[0mmean\u001b[0m\u001b[1;33m(\u001b[0m\u001b[0mus32_D17_corr\u001b[0m\u001b[1;33m)\u001b[0m\u001b[1;33m,\u001b[0m \u001b[0mstd\u001b[0m\u001b[1;33m(\u001b[0m\u001b[0mus32_D17_corr\u001b[0m\u001b[1;33m)\u001b[0m\u001b[1;33m)\u001b[0m\u001b[1;33m\u001b[0m\u001b[0m\n\u001b[1;32m      4\u001b[0m \u001b[1;32mprint\u001b[0m\u001b[1;33m(\u001b[0m\u001b[0mUSGS35\u001b[0m\u001b[1;33m[\u001b[0m\u001b[1;34m\"D17Oacc\"\u001b[0m\u001b[1;33m]\u001b[0m\u001b[1;33m,\u001b[0m \u001b[0mmean\u001b[0m\u001b[1;33m(\u001b[0m\u001b[0mus35_D17_corr\u001b[0m\u001b[1;33m)\u001b[0m\u001b[1;33m,\u001b[0m \u001b[0mstd\u001b[0m\u001b[1;33m(\u001b[0m\u001b[0mus35_D17_corr\u001b[0m\u001b[1;33m)\u001b[0m\u001b[1;33m)\u001b[0m\u001b[1;33m\u001b[0m\u001b[0m\n",
      "\u001b[0;31mNameError\u001b[0m: name 'iaea_D17_corr' is not defined"
     ]
    }
   ],
   "source": [
    "print(IAEANO3[\"D17Oacc\"], mean(iaea_D17_corr), std(iaea_D17_corr))\n",
    "print(USGS34[\"D17Oacc\"], mean(us34_D17_corr), std(us34_D17_corr))\n",
    "print(USGS32[\"D17Oacc\"], mean(us32_D17_corr), std(us32_D17_corr))\n",
    "print(USGS35[\"D17Oacc\"], mean(us35_D17_corr), std(us35_D17_corr))"
   ]
  },
  {
   "cell_type": "code",
   "execution_count": 123,
   "metadata": {
    "collapsed": false
   },
   "outputs": [
    {
     "name": "stdout",
     "output_type": "stream",
     "text": [
      "(12.986400000000001, 12.769365758366403, 0.64338865976121662)\n",
      "(-14.5456, -14.544578626809855, 0.12037837140815594)\n",
      "(13.008000000000001, 12.427320229622119, 0.081854025018439899)\n",
      "(51.101200000000006, 51.100178626809651, 0.23453051485287357)\n"
     ]
    }
   ],
   "source": [
    "print(IAEANO3[\"d17Oacc\"], mean(iaea_d17_corr), std(iaea_d17_corr))\n",
    "print(USGS34[\"d17Oacc\"], mean(us34_d17_corr), std(us34_d17_corr))\n",
    "print(USGS32[\"d17Oacc\"], mean(us32_d17_corr), std(us32_d17_corr))\n",
    "print(USGS35[\"d17Oacc\"], mean(us35_d17_corr), std(us35_d17_corr))"
   ]
  },
  {
   "cell_type": "code",
   "execution_count": 117,
   "metadata": {
    "collapsed": false
   },
   "outputs": [
    {
     "name": "stdout",
     "output_type": "stream",
     "text": [
      "(12.986400000000001, 12.442725097070673, 0.33545850975218616)\n",
      "(-14.5456, -14.543442056403428, 0.22244881054169119)\n",
      "(13.008000000000001, 12.564008593344795, 0.12198835048321961)\n",
      "(51.101200000000006, 51.099042056403036, 0.30782179904263735)\n"
     ]
    }
   ],
   "source": [
    "print(IAEANO3[\"d17Oacc\"], mean(iaea_d17_corr), std(iaea_d17_corr))\n",
    "print(USGS34[\"d17Oacc\"], mean(us34_d17_corr), std(us34_d17_corr))\n",
    "print(USGS32[\"d17Oacc\"], mean(us32_d17_corr), std(us32_d17_corr))\n",
    "print(USGS35[\"d17Oacc\"], mean(us35_d17_corr), std(us35_d17_corr))"
   ]
  },
  {
   "cell_type": "code",
   "execution_count": 128,
   "metadata": {
    "collapsed": false
   },
   "outputs": [
    {
     "name": "stdout",
     "output_type": "stream",
     "text": [
      "(25.32, 25.070586112526826, 0.33077919954673474)\n",
      "(-27.78, -27.778623402356651, 0.27773235305499194)\n",
      "(25.4, 25.548058745736327, 0.087782817183805636)\n",
      "(56.81, 56.808623402356659, 0.18826677881171563)\n"
     ]
    }
   ],
   "source": [
    "print(IAEANO3[\"d18Oacc\"], mean(iaea_d18_corr), std(iaea_d18_corr))\n",
    "print(USGS34[\"d18Oacc\"], mean(us34_d18_corr), std(us34_d18_corr))\n",
    "print(USGS32[\"d18Oacc\"], mean(us32_d18_corr), std(us32_d18_corr))\n",
    "print(USGS35[\"d18Oacc\"], mean(us35_d18_corr), std(us35_d18_corr))"
   ]
  },
  {
   "cell_type": "code",
   "execution_count": 118,
   "metadata": {
    "collapsed": false
   },
   "outputs": [
    {
     "name": "stdout",
     "output_type": "stream",
     "text": [
      "(25.32, 25.087675426405724, 0.32065647540414083)\n",
      "(-27.78, -27.778676519115557, 0.29794539302549605)\n",
      "(25.4, 25.533708534965388, 0.12274933819248704)\n",
      "(56.81, 56.808676519115693, 0.12983878461765577)\n"
     ]
    }
   ],
   "source": [
    "print(IAEANO3[\"d18Oacc\"], mean(iaea_d18_corr), std(iaea_d18_corr))\n",
    "print(USGS34[\"d18Oacc\"], mean(us34_d18_corr), std(us34_d18_corr))\n",
    "print(USGS32[\"d18Oacc\"], mean(us32_d18_corr), std(us32_d18_corr))\n",
    "print(USGS35[\"d18Oacc\"], mean(us35_d18_corr), std(us35_d18_corr))"
   ]
  },
  {
   "cell_type": "code",
   "execution_count": 96,
   "metadata": {
    "collapsed": true
   },
   "outputs": [],
   "source": [
    "for pair in l:\n",
    "    plot(odata[pair, 0], odata[pair, 1], 'kv', alpha=0.8)"
   ]
  },
  {
   "cell_type": "code",
   "execution_count": 272,
   "metadata": {
    "collapsed": false
   },
   "outputs": [],
   "source": [
    "l = []\n",
    "for row in areas:\n",
    "    if row[0][0] == \"USGS35\":\n",
    "        d17 = rtod((row[1][0][1] / r33) / (2*row[1][0][0] / r32 + row[1][0][1] / r33 + row[1][0][2] / r34), SMOW17)\n",
    "        d18 = rtod((row[1][0][2] / r34) / (2*row[1][0][0] / r32 + row[1][0][1] / r33 + row[1][0][2] / r34), SMOW18)\n",
    "        l += [[d17, d18]]\n",
    "        "
   ]
  },
  {
   "cell_type": "code",
   "execution_count": 275,
   "metadata": {
    "collapsed": false,
    "scrolled": true
   },
   "outputs": [
    {
     "data": {
      "text/plain": [
       "[33.599074344230907, 32.538711428646842, 35.21273991133895, 33.565312728260018]"
      ]
     },
     "execution_count": 275,
     "metadata": {},
     "output_type": "execute_result"
    }
   ],
   "source": [
    "[(x[0] - 0.52*x[1]) for x in l]"
   ]
  },
  {
   "cell_type": "code",
   "execution_count": 20,
   "metadata": {
    "collapsed": false
   },
   "outputs": [],
   "source": [
    "fname_1 = \"170228\" + \"_D17O_john_correction.txt\"\n"
   ]
  },
  {
   "cell_type": "code",
   "execution_count": null,
   "metadata": {
    "collapsed": true
   },
   "outputs": [],
   "source": []
  }
 ],
 "metadata": {
  "anaconda-cloud": {},
  "kernelspec": {
   "display_name": "Python [conda root]",
   "language": "python",
   "name": "conda-root-py"
  },
  "language_info": {
   "codemirror_mode": {
    "name": "ipython",
    "version": 2
   },
   "file_extension": ".py",
   "mimetype": "text/x-python",
   "name": "python",
   "nbconvert_exporter": "python",
   "pygments_lexer": "ipython2",
   "version": "2.7.12"
  }
 },
 "nbformat": 4,
 "nbformat_minor": 1
}
