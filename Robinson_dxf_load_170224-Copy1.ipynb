{
 "cells": [
  {
   "cell_type": "markdown",
   "metadata": {},
   "source": [
    "### Import necessary packages, define dxf parsing functions"
   ]
  },
  {
   "cell_type": "code",
   "execution_count": 6,
   "metadata": {
    "collapsed": false,
    "scrolled": true
   },
   "outputs": [
    {
     "name": "stdout",
     "output_type": "stream",
     "text": [
      "Using matplotlib backend: Qt5Agg\n",
      "Populating the interactive namespace from numpy and matplotlib\n"
     ]
    },
    {
     "name": "stderr",
     "output_type": "stream",
     "text": [
      "C:\\Users\\uwisolab\\Anaconda2\\lib\\site-packages\\IPython\\core\\magics\\pylab.py:161: UserWarning: pylab import has clobbered these variables: ['f']\n",
      "`%matplotlib` prevents importing * from pylab and numpy\n",
      "  \"\\n`%matplotlib` prevents importing * from pylab and numpy\"\n"
     ]
    }
   ],
   "source": [
    "import re\n",
    "import sys\n",
    "import glob\n",
    "import struct\n",
    "from scipy.optimize import curve_fit\n",
    "from scipy.special import erf\n",
    "from scipy.stats import linregress\n",
    "from scipy.signal import medfilt\n",
    "%pylab\n",
    "\n",
    "def nullify(s):\n",
    "    \"\"\"Effectively converts UTF-8 encoded text into UTF-16\"\"\"\n",
    "    s2 = \"\\0\".join(list(s)) + \"\\0\"\n",
    "    return s2.encode()\n",
    "\n",
    "def process_line_o2(b):\n",
    "    \"\"\"Returns one 'line' (data point) of oxygen data\"\"\"\n",
    "    return struct.unpack(\"<fddd\", b)\n",
    "\n",
    "def process_line_n2(b):\n",
    "    \"\"\"Returns one 'line' (data point) of nitrogen data\"\"\"\n",
    "    return struct.unpack(\"<fdd\", b)\n",
    "\n",
    "def get_odata(bites, pattern=b\"CEvalGCData\"):\n",
    "    ostart = re.search(pattern, bites)\n",
    "    nions = 3\n",
    "    \n",
    "    # nbytes is the total number of bytes containing time, 3 cups of data\n",
    "    \n",
    "    nbytes = struct.unpack(\"<I\", bites[ostart.end() + 4:ostart.end() + 8])[0]\n",
    "    no = nbytes / (4 + 8 * nions)\n",
    "    odata = []\n",
    "    for i in range(no):\n",
    "        line = bites[ostart.end() + 28*i + 8: ostart.end() + 8 + 28*(i+1)]\n",
    "        odata += [process_line_o2(line)]\n",
    "    return array(odata)\n",
    "\n",
    "def get_ndata(bites, pattern=b\"CStringArray.+N\\0002\\0\"):\n",
    "    \n",
    "    nstart = re.search(pattern, bites)\n",
    "    nbytes = struct.unpack(\"<I\", bites[nstart.end() + 22:nstart.end() + 26])[0]\n",
    "    nions = 2\n",
    "    nlines = nbytes / (4 + 8 * nions)\n",
    "    ndata = []\n",
    "    for i in range(nlines):\n",
    "        line = bites[nstart.end() + 26 + i*20: nstart.end() + 26 + 20*(i+1)]\n",
    "        ndata += [process_line_n2(line)]\n",
    "    return array(ndata)\n",
    "\n",
    "# Define the peakfinding function\n",
    "\n",
    "def peakfind(data, riselim, decay_start, decay_end, offset):\n",
    "    \"\"\"Peak finding code that uses slopes of peaks for definition\"\"\"\n",
    "    grad = gradient(data)\n",
    "    downgrad = gradient(data, 5)\n",
    "    l2 = []\n",
    "    started = 0\n",
    "    decaying = 0\n",
    "    for i in range(len(grad)):\n",
    "        if not started:\n",
    "            if grad[i] > riselim:\n",
    "                l2 += [i]\n",
    "                started = 1\n",
    "        elif started and grad[i] > riselim:\n",
    "            continue\n",
    "        elif grad[i] < decay_start and started and not decaying:\n",
    "            decaying = 1\n",
    "        elif started and decaying and downgrad[i] > decay_end:\n",
    "            l2 += [i]\n",
    "            started = 0\n",
    "            decaying = 0\n",
    "            return array(l2) + offset\n",
    "\n",
    "\n",
    "def rtod(ratio, std):\n",
    "    \"\"\"Helper function that converts ratios to del values\"\"\"\n",
    "    ratio = array(ratio)\n",
    "    return ((ratio / std) - 1) * 1000\n",
    "\n",
    "def dtor(delta, std):\n",
    "    \"\"\"Helper function to convert from del values to a ratio\"\"\"\n",
    "    delta = array(delta)\n",
    "    return (delta / 1000 + 1) * std\n",
    "\n",
    "def corr(corrline, r, std):\n",
    "    \"\"\"Helper function to corect ratios based on a correction line\"\"\"\n",
    "    r = array(r)\n",
    "    corrected_ratio = r*corrline[0] + corrline[1]\n",
    "    return rtod(corrected_ratio, std)\n",
    "\n",
    "def keysearch(search, data):\n",
    "    \"\"\"Function that searches dictionary for particular keys\"\"\"\n",
    "    l = []\n",
    "    for key in data.keys():\n",
    "        if search(key):\n",
    "            l += [key]\n",
    "    return l\n",
    "\n",
    "def D17O_excess(d17, d18, factor=0.52):\n",
    "    \"\"\"\n",
    "    Calculate the O-17 excess given d18 and d17 data\n",
    "    \n",
    "    inputs\n",
    "    ------\n",
    "    d17 : array of floats\n",
    "    d18 : array of floats\n",
    "    factor : float\n",
    "    \"\"\"\n",
    "    return d17 - factor * d18\n",
    "\n",
    "def set_color(s):\n",
    "    if s in [\"USGS34\"]:\n",
    "        return 'magenta'\n",
    "    elif s in [\"USGS35\"]:\n",
    "        return 'red'\n",
    "    elif s in [\"USGS32\"]:\n",
    "        return 'Chartreuse'\n",
    "    elif s in [\"IAEANO3\"]:\n",
    "        return 'yellow'\n",
    "    else: \n",
    "        return 'k'\n",
    "    \n",
    "def savestuff(fname, l):\n",
    "    with open(fname, 'w') as f:\n",
    "        for line in l:\n",
    "            s = \"\\t\".join(line)\n",
    "            f.write(s + \"\\n\")\n",
    "        f.close()"
   ]
  },
  {
   "cell_type": "markdown",
   "metadata": {},
   "source": [
    "### Standards data\n",
    "rXX values are resistor values for a given mass XX"
   ]
  },
  {
   "cell_type": "code",
   "execution_count": 2,
   "metadata": {
    "collapsed": true
   },
   "outputs": [],
   "source": [
    "irene_standards_date = 'Irene Standards as of: 161121'\n",
    "SMOW17 = 0.0003799 # The 17O/16O ratio of SMOW, from Li et al., 1988\n",
    "SMOW18 = 0.0020052 # The 18O/16O ratio of SMOW, from Baertschi 1976\n",
    "air15 = 0.0036782 # The 15N/14N ratio of air, from De Bievre et al., 1996\n",
    "\n",
    "IAEANO3 = {'name':'IAEANO3','material':'potassium nitrate','index':[],'d15Nacc':4.72,'d18Oacc':25.32,'d17Oacc':nan,'D17Oacc':-0.18,'notes':'d15N according to Bohlke and Coplen 1993, d18O according to Brand et al. 2009, D17O according to Michalski et al. 2002, d17O calculated from d18O and D17O using 0.52*USGS35[\"d18Oacc\"]+USGS35[\"D17Oacc]'}\n",
    "IAEANO3[\"d17Oacc\"] = 0.52*IAEANO3[\"d18Oacc\"]+IAEANO3[\"D17Oacc\"]\n",
    "USGS35 = {'name':'USGS35','material':'sodium nitrate','index':[],'d15Nacc':2.7,'d18Oacc':56.81,'d17Oacc':nan,'D17Oacc':21.56,'notes':'d15N according to Bohlke et al. 2003, d18O according to Brand et al. 2009, D17O according to Michalski et al. 2002, d17O calculated from d18O and D17O using 0.52*USGS35[\"d18Oacc\"]+USGS35[\"D17Oacc\"]'}\n",
    "USGS35[\"d17Oacc\"] = 0.52*USGS35[\"d18Oacc\"]+USGS35[\"D17Oacc\"]\n",
    "USGS35[\"alpha\"] = log(1+USGS35[\"d17Oacc\"]/1000)/log(1+USGS35[\"d18Oacc\"]/1000)\n",
    "USGS34 = {'name':'USGS34','material':'potassium nitrate','index':[],'d15Nacc':-1.8,'d18Oacc':-27.78,'d17Oacc':nan,'D17Oacc':-0.1,'notes':'d15N according to Bohlke et al. 2003, d18O according to Brand et al. 2009, D17O according to Bohlke et al. 2002'}\n",
    "USGS34[\"d17Oacc\"] = 0.52*USGS34[\"d18Oacc\"]+USGS34[\"D17Oacc\"]\n",
    "USGS32 = {'name':'USGS32','material':'potassium nitrate','index':[],'d15Nacc':180,'d18Oacc':25.4,'d17Oacc':nan,'D17Oacc':-0.2,'notes':'d15N acc\"]ording to Bohlke and Coplen 1993, d18O acc\"]ording to Brand et al. 2009, D17O assumed to be -0.2, d17O calculated from that]'}\n",
    "USGS32[\"d17Oacc\"] = 0.52*USGS32[\"d18Oacc\"]+USGS32[\"D17Oacc\"]\n",
    "\n",
    "# Reference gases\n",
    "d17O_ref_measured = 11.310 # vs. VSMOW\n",
    "d18O_ref_measured = 22.120 # vs. VSMOW\n",
    "\n",
    "r17O_ref_measured = dtor(d17O_ref_measured, SMOW17)\n",
    "r18O_ref_measured = dtor(d18O_ref_measured, SMOW18)\n",
    "\n",
    "r32 = 300e6\n",
    "r33 = 300e9\n",
    "r34 = 100e9\n",
    "r28 = 300e6\n",
    "r29 = (300e9**-1 + 30e9 ** -1)**-1\n"
   ]
  },
  {
   "cell_type": "markdown",
   "metadata": {},
   "source": [
    "### Load data files"
   ]
  },
  {
   "cell_type": "code",
   "execution_count": 15,
   "metadata": {
    "collapsed": false
   },
   "outputs": [
    {
     "name": "stderr",
     "output_type": "stream",
     "text": [
      "C:\\Users\\uwisolab\\Anaconda2\\lib\\site-packages\\ipykernel\\__main__.py:44: FutureWarning: comparison to `None` will result in an elementwise object comparison in the future.\n"
     ]
    },
    {
     "name": "stdout",
     "output_type": "stream",
     "text": [
      "('40790', 12.974584898558295, 25.932385597907004, -0.51025561235334749, 23566.817635824787)\n",
      "('Blank sample: ', ('Blank', '40791'))\n",
      "('40792', 54.129585057717698, 68.151625681703194, 18.690739703232033, 19855.864113659234)\n",
      "('40793', 0.52893337678994179, -0.96488227901836421, 1.0306721618794912, 18928.774651902087)\n",
      "('40794', 20.829925667206872, 40.781878093246519, -0.37665094128131926, 21368.054715633807)\n",
      "('40795', 21.234947636853629, 41.818568221596799, -0.51070783837670675, 20498.919194456041)\n",
      "('40796', -1.1903685976517586, -2.445240966772122, 0.081156705069744817, 19104.357251973659)\n",
      "('40797', 20.807933490820218, 40.478740198989449, -0.24101141265429504, 20741.450219464368)\n",
      "('40798', 53.244777067373185, 68.30800528412783, 17.72461431962671, 20627.569548126212)\n",
      "('40799', 22.600219697973767, 42.551958769317721, 0.47320113792855167, 20585.87146790792)\n",
      "('40800', 70.570852885651462, 85.458051755214811, 26.132665972939762, 21594.7785242629)\n",
      "('40801', 70.835219187476156, 84.81683020226005, 26.730467482300931, 23438.680496713601)\n",
      "('40802', 72.35762280281466, 86.836526333649914, 27.202629109316703, 21905.180672926163)\n",
      "('40803', 24.011746869218918, 44.411136653310201, 0.91795580949761302, 20687.505739190932)\n",
      "('40804', -0.86464472273617421, -1.8500892552779646, 0.097401690008367403, 18982.319137876344)\n",
      "('40805', 52.910146687624284, 67.686318154953412, 17.713261247048507, 22010.638769360598)\n",
      "('40806', 23.425080930907562, 43.53709519448357, 0.78579142977610417, 20788.342531533246)\n",
      "('40807', -1.1554570356023808, -2.6042578770141267, 0.19875706044496511, 18868.537517986606)\n",
      "('40808', 52.892854499761114, 67.512924886187875, 17.786133558943419, 22330.33182351026)\n",
      "('40809', 22.474176402307087, 43.678780673463095, -0.23878954789372386, 20919.94145035289)\n",
      "('40810', 21.441593373740851, 42.36234309577469, -0.58682503606198821, 21379.038571558885)\n",
      "('40811', 71.849794237681678, 86.587403397616839, 26.82434447092092, 22213.474516074919)\n",
      "('40812', 73.609551988660144, 88.161728074939603, 27.765453389691551, 24432.658944133687)\n",
      "('40813', 75.347933408121733, 90.378060640106114, 28.351341875266556, 22667.997932321352)\n",
      "('40814', 23.958687961185056, 44.782383866277755, 0.67184835072062299, 21729.789450329925)\n",
      "('40815', 22.220318502614191, 42.703064005933157, 0.01472521952894823, 19828.781364666866)\n",
      "('40816', -1.3436756981675124, -2.1931974341689031, -0.2032130323996828, 19321.740234540204)\n",
      "('40817', 52.393790078821169, 66.519483801906972, 17.803658501829545, 19554.622027035453)\n",
      "('40818', 22.896786900995725, 43.771527879790327, 0.13559240350475577, 21028.967365874982)\n",
      "('40819', 53.638345995957962, 69.243198267723741, 17.631882896741615, 20574.442393528869)\n",
      "('40820', -0.0065805791670259239, -1.2988526720164595, 0.66882281028153301, 18147.847076143004)\n",
      "('40821', 73.177922216896675, 88.366997624534037, 27.227083452138977, 22156.998701550943)\n",
      "('40822', 75.330649174864206, 90.468080256083994, 28.287247441700529, 21263.574336551032)\n",
      "('40823', 1.2745392852115955, 0.29845430169195275, 1.1193430483317801, 19299.881996633114)\n",
      "('40824', 21.813737694703626, 41.146323695980371, 0.41764937279383219, 20234.765745519147)\n",
      "('40825', 53.747540670803893, 68.587304454222675, 18.082142354608102, 19842.349280735118)\n",
      "('40826', 0.011438782632877675, -1.6025794521652426, 0.84478009775880381, 18078.347933891455)\n",
      "('40827', 21.212577857705917, 41.326566639820818, -0.27723679500090981, 20168.964062521703)\n",
      "('40828', 22.064590511474471, 43.050297279900953, -0.32156407407402554, 19985.126200201812)\n",
      "('40829', 14.06825562267211, 27.594540033660575, -0.28090519483138898, 29003.928771681607)\n"
     ]
    }
   ],
   "source": [
    "path = \"S:/Data/projects/Robinson_WAIS/dxf/170721_WAIS_Robinson_160805/\"\n",
    "files = glob.glob(path + \"*dxf\")\n",
    "fname_1 = \"170721_WAIS_Robinson_160805\" + \".txt\"\n",
    "plotall = False\n",
    "\n",
    "data = []\n",
    "for fid in files:\n",
    "    bites = None\n",
    "    fullname = re.split(r\"[\\\\|\\.]\", fid)[-2]\n",
    "    #print(fullname)\n",
    "    #print(re.split(r\"[__|\\-]\", fullname))\n",
    "    run, blah, samp, blah2 = re.split(r\"[__|\\-]\", fullname)\n",
    "    with open(fid, 'rb') as f:\n",
    "        bites = f.read()\n",
    "    odata = get_odata(bites)\n",
    "    ndata = get_ndata(bites)\n",
    "    data += [[(samp, run), (odata, ndata)]]\n",
    "    \n",
    "d = {key: value for (key, value) in data}\n",
    "keys = []\n",
    "for key in d.keys():\n",
    "    if \"USGS35\" in key:\n",
    "        keys += [key]\n",
    "keys\n",
    "\n",
    "\n",
    "out = {}\n",
    "keys = sorted(d.keys(), key=lambda x: int(x[1]))\n",
    "for key in keys:\n",
    "    #print(key)\n",
    "    if plotall:\n",
    "        fig, ax = subplots()\n",
    "        fig.canvas.set_window_title(key[1] + \": \" + key[0])\n",
    "        ax.set_xlim(0, 180)\n",
    "        ax.set_ylim(0, 10000)\n",
    "    odata = d[key][0]\n",
    "    \n",
    "    grad = gradient(odata[:, 1])\n",
    "    ref_search_start = 40*5\n",
    "    sample_search_start = 140*5\n",
    "    refpeak = peakfind(odata[ref_search_start:, 2],  0.5, -5, -0.05, ref_search_start)\n",
    "    samppeak = peakfind(odata[sample_search_start:, 1],  0.5, -5, -0.05, sample_search_start)\n",
    "    \n",
    "    if samppeak == None:\n",
    "        print(\"Blank sample: \", key)\n",
    "        continue\n",
    "    \n",
    "    ref_bk_end = refpeak[0] - 35\n",
    "    ref_bk_start = refpeak[0] - (35 + 20*5)\n",
    "    \n",
    "    samp_bk_start = samppeak[0] - (35 + 20*5)\n",
    "    samp_bk_end = samppeak[0] - 35\n",
    "    \n",
    "    \n",
    "    #print(odata[(samp_bk_start, samp_bk_end), 0])\n",
    "\n",
    "    t0_ref = odata[ref_bk_start, 0]\n",
    "    ref_bk_32_fit = polyfit(odata[ref_bk_start:ref_bk_end, 0] - t0_ref, medfilt(odata[ref_bk_start:ref_bk_end, 1], 13), 2)\n",
    "    ref_bk_33_fit = polyfit(odata[ref_bk_start:ref_bk_end, 0] - t0_ref, medfilt(odata[ref_bk_start:ref_bk_end, 2], 13), 2)\n",
    "    ref_bk_34_fit = polyfit(odata[ref_bk_start:ref_bk_end, 0] - t0_ref, medfilt(odata[ref_bk_start:ref_bk_end, 3], 13), 2)\n",
    "    \n",
    "    t0_samp = odata[samp_bk_start, 0]\n",
    "    samp_bk_32_fit = polyfit(odata[samp_bk_start:samp_bk_end, 0] - t0_samp, medfilt(odata[samp_bk_start:samp_bk_end, 1], 13), 2)\n",
    "    samp_bk_33_fit = polyfit(odata[samp_bk_start:samp_bk_end, 0] - t0_samp, medfilt(odata[samp_bk_start:samp_bk_end, 2], 13), 2)\n",
    "    samp_bk_34_fit = polyfit(odata[samp_bk_start:samp_bk_end, 0] - t0_samp, medfilt(odata[samp_bk_start:samp_bk_end, 3], 13), 2)\n",
    "    \n",
    "    ref_bk_fits = [ref_bk_32_fit, ref_bk_33_fit, ref_bk_34_fit]\n",
    "    samp_bk_fits = [samp_bk_32_fit, samp_bk_33_fit, samp_bk_34_fit]\n",
    "    \n",
    "    x0_ref = odata[ref_bk_start:refpeak[1], 0] - t0_ref\n",
    "    ref_fits = [(fit[0]*x0_ref**2 + fit[1]*x0_ref + fit[2]) for fit in ref_bk_fits]\n",
    "    x0_samp = odata[samp_bk_start:samppeak[1], 0] - t0_samp\n",
    "    samp_fits = [(fit[0]*x0_samp**2 + fit[1]*x0_samp + fit[2]) for fit in samp_bk_fits]\n",
    "    \n",
    "    if plotall: \n",
    "\n",
    "        plot(odata[:, 0], odata[:, 1])\n",
    "        plot(odata[:, 0], odata[:, 2])\n",
    "        plot(odata[:, 0], odata[:, 3])\n",
    "\n",
    "        plot(x0_ref + t0_ref, ref_fits[0])\n",
    "        plot(x0_ref + t0_ref, ref_fits[1])\n",
    "        plot(x0_ref + t0_ref, ref_fits[2])\n",
    "\n",
    "        plot(x0_samp + t0_samp, samp_fits[0])\n",
    "        plot(x0_samp + t0_samp, samp_fits[1])\n",
    "        plot(x0_samp + t0_samp, samp_fits[2])\n",
    "\n",
    "        plot(odata[samppeak, 0], odata[samppeak, 1], 'kv')\n",
    "        plot(odata[refpeak, 0], odata[refpeak, 1], 'kv')\n",
    "    \n",
    "    a32_ref = trapz(odata[refpeak[0]:refpeak[1], 1] - ref_fits[0][refpeak[0] - ref_bk_start], odata[refpeak[0]:refpeak[1], 0])\n",
    "    a33_ref = trapz(odata[refpeak[0]:refpeak[1], 2] - ref_fits[1][refpeak[0] - ref_bk_start], odata[refpeak[0]:refpeak[1], 0])\n",
    "    a34_ref = trapz(odata[refpeak[0]:refpeak[1], 3] - ref_fits[2][refpeak[0] - ref_bk_start], odata[refpeak[0]:refpeak[1], 0])\n",
    "    r17_ref = (a33_ref/r33) / (2*a32_ref/r32 + a33_ref/r33 + a34_ref/r34)\n",
    "    r18_ref = (a34_ref/r34) / (2*a32_ref/r32 + a33_ref/r33 + a34_ref/r34)\n",
    "    acorr_33 = r17O_ref_measured / r17_ref\n",
    "    acorr_34 = r18O_ref_measured / r18_ref\n",
    "      \n",
    "    a32 = trapz(odata[samppeak[0]:samppeak[1], 1] - samp_fits[0][samppeak[0] - samp_bk_start], odata[samppeak[0]:samppeak[1], 0])\n",
    "    a33 = trapz(odata[samppeak[0]:samppeak[1], 2] - samp_fits[1][samppeak[0] - samp_bk_start], odata[samppeak[0]:samppeak[1], 0])\n",
    "    a34 = trapz(odata[samppeak[0]:samppeak[1], 3] - samp_fits[2][samppeak[0] - samp_bk_start], odata[samppeak[0]:samppeak[1], 0])\n",
    "    \n",
    "    #print(\"raw Reference peak areas: \", a32_ref, a33_ref, a34_ref)\n",
    "    #print(\"raw Sample peak areas:\", a32, a33, a34)\n",
    "    \n",
    "    r17 = acorr_33*(a33/r33) / (2*a32/r32 + a33/r33 + a34/r34)\n",
    "    r18 = acorr_34*(a34/r34) / (2*a32/r32 + a33/r33 + a34/r34)\n",
    "    r17_uncorr = (a33/r33) / (2*a32/r32 + a33/r33 + a34/r34)\n",
    "    r18_uncorr = (a34/r34) / (2*a32/r32 + a33/r33 + a34/r34)\n",
    "    \n",
    "    d17O_ref = rtod(r17_ref, SMOW17)\n",
    "    d18O_ref = rtod(r18_ref, SMOW18)\n",
    "    D17O_ref = d17O_ref - 0.52*d18O_ref\n",
    "\n",
    "    d17O = rtod(r17, SMOW17)\n",
    "    d18O = rtod(r18, SMOW18)\n",
    "    D17O = d17O - 0.52*d18O\n",
    "    \n",
    "    d17O_uc = rtod(r17_uncorr, SMOW17)\n",
    "    d18O_uc = rtod(r18_uncorr, SMOW18)\n",
    "    D17O_uc = D17O_excess(d17O_uc, d18O_uc)\n",
    "    print(key[1], d17O, d18O, D17O, a32)\n",
    "\n",
    "    \n",
    "    d_refs = [d17O_ref, d18O_ref, D17O_ref]\n",
    "    d_samp = [d17O, d18O, D17O]\n",
    "    out[key] = {\"refdata\": {\"d17O\": d17O_ref, \"d18O\": d18O_ref, \"D17O\": D17O_ref, \"r17O\": r17_ref, \"r18O\": r18_ref}, \n",
    "                \"sampdata\": {\"d17O\": d17O, \"d18O\": d18O, \"D17O\": D17O, \"r17O\": r17, \"r18O\": r18},\n",
    "                \"samp_noref\": {\"d17O\" : d17O_uc, \"d18O\": d18O_uc, \"D17O\": D17O_uc, \"r17O\": r17_uncorr, \"r18O\": r18_uncorr}}\n",
    "\n",
    "    #print(\"Reference del values: \", d17O_ref, d18O_ref, D17O_ref)\n",
    "    #print(\"Sample raw del values: \", d17O, d18O, D17O)\n",
    "\n",
    "    #def O_calibrate(data):\n",
    "data = out\n",
    "stand_34 = keysearch(lambda x: \"USGS34\" in x, out)\n",
    "stand_35 = keysearch(lambda x: \"USGS35\" in x, out)\n",
    "stand_IA = keysearch(lambda x: \"IAEANO3\" in x, out)\n",
    "stand_32 = keysearch(lambda x: \"USGS32\" in x, out)\n",
    "\n",
    "us34_r17 = []\n",
    "us34_r18 = []\n",
    "us35_r17 = []\n",
    "us35_r18 = []\n",
    "iaea_r17 = []\n",
    "iaea_r18 = []\n",
    "us32_r17 = []\n",
    "us32_r18 = []\n",
    "\n",
    "for key in stand_34:\n",
    "    us34_r17 += [data[key][\"sampdata\"][\"r17O\"]]\n",
    "    us34_r18 += [data[key][\"sampdata\"][\"r18O\"]]\n",
    "for key in stand_35:\n",
    "    us35_r17 += [data[key][\"sampdata\"][\"r17O\"]]\n",
    "    us35_r18 += [data[key][\"sampdata\"][\"r18O\"]]    \n",
    "for key in stand_IA:\n",
    "    iaea_r17 += [data[key][\"sampdata\"][\"r17O\"]]\n",
    "    iaea_r18 += [data[key][\"sampdata\"][\"r18O\"]]\n",
    "for key in stand_32:\n",
    "    us32_r17 += [data[key][\"sampdata\"][\"r17O\"]]\n",
    "    us32_r18 += [data[key][\"sampdata\"][\"r18O\"]]    \n",
    "    \n",
    "    \n",
    "\n",
    "all_r17 = concatenate((array(us34_r17), array(us35_r17)))\n",
    "all_r18 = concatenate((array(us34_r18), array(us35_r18)))\n",
    "us35_D17O = D17O_excess(rtod(array(us35_r17), SMOW17),rtod(array(us35_r18), SMOW18))\n",
    "us34_D17O = D17O_excess(rtod(array(us34_r17), SMOW17),rtod(array(us34_r18), SMOW18))\n",
    "all_D17O = concatenate((us34_D17O, us35_D17O))\n",
    "                                                \n",
    "\n",
    "u34_r17acc = dtor(USGS34[\"d17Oacc\"], SMOW17)\n",
    "u34_r18acc = dtor(USGS34[\"d18Oacc\"], SMOW18)\n",
    "\n",
    "u35_r17acc = dtor(USGS35[\"d17Oacc\"], SMOW17)\n",
    "u35_r18acc = dtor(USGS35[\"d18Oacc\"], SMOW18)\n",
    "                        \n",
    "u35_D17acc = USGS35[\"D17Oacc\"]\n",
    "u34_D17acc = USGS34[\"D17Oacc\"]\n",
    "\n",
    "all_acc_r17 = concatenate((ones_like(us34_r17) * u34_r17acc, ones_like(us35_r17) * u35_r17acc))\n",
    "all_acc_r18 = concatenate((ones_like(us34_r18) * u34_r18acc, ones_like(us35_r18) * u35_r18acc))\n",
    "all_acc_D17O = concatenate((ones_like(us34_r18) * u34_D17acc, ones_like(us35_r18) * u35_D17acc))\n",
    "\n",
    "corrline_r17 = linregress(all_r17, all_acc_r17)\n",
    "corrline_r18 = linregress(all_r18, all_acc_r18)\n",
    "corrline_D17 = linregress(all_D17O, all_acc_D17O)\n",
    "\n",
    "\n",
    "x17 = linspace(.99, 1.1, 111) * SMOW17\n",
    "x18 = linspace(.99, 1.1, 111) * SMOW18\n",
    "xD17 = linspace(-5, 40, 46)\n",
    "\n",
    "fig_d17, ax_d17 = subplots()\n",
    "fig_d18, ax_d18 = subplots()\n",
    "fig_D17, ax_D17 = subplots()\n",
    "fig_D17O, ax_D17O = subplots()\n",
    "\n",
    "\n",
    "ax_d17.plot(rtod(x17, SMOW17), rtod((corrline_r17[0]*x17 +  corrline_r17[1]), SMOW17))\n",
    "ax_d18.plot(rtod(x18, SMOW18), rtod((corrline_r18[0]*x18 +  corrline_r18[1]), SMOW18))\n",
    "ax_D17.plot(D17O_excess(rtod(x17, SMOW17),rtod(x18, SMOW18)), D17O_excess(corr(corrline_r17, x17, SMOW17), corr(corrline_r18, x18, SMOW18)))\n",
    "ax_D17O.plot(xD17, corrline_D17[0]*xD17 + corrline_D17[1])\n",
    "                        \n",
    "ll = []\n",
    "for x in sorted(out.items(), key=lambda x: x[0][1]):\n",
    "    color = set_color(x[0][0])\n",
    "    d17 = x[1][\"sampdata\"][\"d17O\"]\n",
    "    d18 = x[1][\"sampdata\"][\"d18O\"]\n",
    "    d17O_corr = corr(corrline_r17, x[1][\"sampdata\"][\"r17O\"], SMOW17)\n",
    "    d18O_corr = corr(corrline_r18, x[1][\"sampdata\"][\"r18O\"], SMOW18)\n",
    "    D17O_corr = D17O_excess(d17O_corr, d18O_corr)\n",
    "    D17O_corr2 = corrline_D17[0]*D17O_excess(d17, d18) + corrline_D17[1]\n",
    "    ax_d17.plot(x[1][\"sampdata\"][\"d17O\"], d17O_corr, 'o', color=color, label=x[0][0])\n",
    "    ax_d18.plot(x[1][\"sampdata\"][\"d18O\"], d18O_corr, 'o', color=color, label=x[0][0])\n",
    "    ax_D17.plot(D17O_excess(d17, d18), D17O_corr, 'o',color=color, label=x[0][0])\n",
    "    ax_D17O.plot(D17O_excess(d17, d18), D17O_corr, 'o',color=color, label=x[0][0])\n",
    "                        \n",
    "    ll += [[x[0][0], str(D17O_corr)]]\n",
    "    #print(x[0], D17O_corr)\n",
    "\n",
    "#savestuff(fname_1, ll)\n"
   ]
  },
  {
   "cell_type": "code",
   "execution_count": null,
   "metadata": {
    "collapsed": true
   },
   "outputs": [],
   "source": [
    "ratio = "
   ]
  },
  {
   "cell_type": "code",
   "execution_count": 122,
   "metadata": {
    "collapsed": false
   },
   "outputs": [
    {
     "name": "stdout",
     "output_type": "stream",
     "text": [
      "(-0.18, -0.26733902014754785, 0.70829087752824138)\n",
      "(-0.1, -0.099694457584398322, 0.18854199338358232)\n",
      "(-0.2, -0.85767031816077244, 0.084979495140161676)\n",
      "(21.56, 21.559694457584197, 0.28660181635172899)\n"
     ]
    }
   ],
   "source": [
    "print(IAEANO3[\"D17Oacc\"], mean(iaea_D17_corr), std(iaea_D17_corr))\n",
    "print(USGS34[\"D17Oacc\"], mean(us34_D17_corr), std(us34_D17_corr))\n",
    "print(USGS32[\"D17Oacc\"], mean(us32_D17_corr), std(us32_D17_corr))\n",
    "print(USGS35[\"D17Oacc\"], mean(us35_D17_corr), std(us35_D17_corr))"
   ]
  },
  {
   "cell_type": "code",
   "execution_count": 10,
   "metadata": {
    "collapsed": false
   },
   "outputs": [
    {
     "ename": "NameError",
     "evalue": "name 'iaea_D17_corr' is not defined",
     "output_type": "error",
     "traceback": [
      "\u001b[0;31m---------------------------------------------------------------------------\u001b[0m",
      "\u001b[0;31mNameError\u001b[0m                                 Traceback (most recent call last)",
      "\u001b[0;32m<ipython-input-10-2c06caf24765>\u001b[0m in \u001b[0;36m<module>\u001b[0;34m()\u001b[0m\n\u001b[0;32m----> 1\u001b[0;31m \u001b[1;32mprint\u001b[0m\u001b[1;33m(\u001b[0m\u001b[0mIAEANO3\u001b[0m\u001b[1;33m[\u001b[0m\u001b[1;34m\"D17Oacc\"\u001b[0m\u001b[1;33m]\u001b[0m\u001b[1;33m,\u001b[0m \u001b[0mmean\u001b[0m\u001b[1;33m(\u001b[0m\u001b[0miaea_D17_corr\u001b[0m\u001b[1;33m)\u001b[0m\u001b[1;33m,\u001b[0m \u001b[0mstd\u001b[0m\u001b[1;33m(\u001b[0m\u001b[0miaea_D17_corr\u001b[0m\u001b[1;33m)\u001b[0m\u001b[1;33m)\u001b[0m\u001b[1;33m\u001b[0m\u001b[0m\n\u001b[0m\u001b[1;32m      2\u001b[0m \u001b[1;32mprint\u001b[0m\u001b[1;33m(\u001b[0m\u001b[0mUSGS34\u001b[0m\u001b[1;33m[\u001b[0m\u001b[1;34m\"D17Oacc\"\u001b[0m\u001b[1;33m]\u001b[0m\u001b[1;33m,\u001b[0m \u001b[0mmean\u001b[0m\u001b[1;33m(\u001b[0m\u001b[0mus34_D17_corr\u001b[0m\u001b[1;33m)\u001b[0m\u001b[1;33m,\u001b[0m \u001b[0mstd\u001b[0m\u001b[1;33m(\u001b[0m\u001b[0mus34_D17_corr\u001b[0m\u001b[1;33m)\u001b[0m\u001b[1;33m)\u001b[0m\u001b[1;33m\u001b[0m\u001b[0m\n\u001b[1;32m      3\u001b[0m \u001b[1;32mprint\u001b[0m\u001b[1;33m(\u001b[0m\u001b[0mUSGS32\u001b[0m\u001b[1;33m[\u001b[0m\u001b[1;34m\"D17Oacc\"\u001b[0m\u001b[1;33m]\u001b[0m\u001b[1;33m,\u001b[0m \u001b[0mmean\u001b[0m\u001b[1;33m(\u001b[0m\u001b[0mus32_D17_corr\u001b[0m\u001b[1;33m)\u001b[0m\u001b[1;33m,\u001b[0m \u001b[0mstd\u001b[0m\u001b[1;33m(\u001b[0m\u001b[0mus32_D17_corr\u001b[0m\u001b[1;33m)\u001b[0m\u001b[1;33m)\u001b[0m\u001b[1;33m\u001b[0m\u001b[0m\n\u001b[1;32m      4\u001b[0m \u001b[1;32mprint\u001b[0m\u001b[1;33m(\u001b[0m\u001b[0mUSGS35\u001b[0m\u001b[1;33m[\u001b[0m\u001b[1;34m\"D17Oacc\"\u001b[0m\u001b[1;33m]\u001b[0m\u001b[1;33m,\u001b[0m \u001b[0mmean\u001b[0m\u001b[1;33m(\u001b[0m\u001b[0mus35_D17_corr\u001b[0m\u001b[1;33m)\u001b[0m\u001b[1;33m,\u001b[0m \u001b[0mstd\u001b[0m\u001b[1;33m(\u001b[0m\u001b[0mus35_D17_corr\u001b[0m\u001b[1;33m)\u001b[0m\u001b[1;33m)\u001b[0m\u001b[1;33m\u001b[0m\u001b[0m\n",
      "\u001b[0;31mNameError\u001b[0m: name 'iaea_D17_corr' is not defined"
     ]
    }
   ],
   "source": [
    "print(IAEANO3[\"D17Oacc\"], mean(iaea_D17_corr), std(iaea_D17_corr))\n",
    "print(USGS34[\"D17Oacc\"], mean(us34_D17_corr), std(us34_D17_corr))\n",
    "print(USGS32[\"D17Oacc\"], mean(us32_D17_corr), std(us32_D17_corr))\n",
    "print(USGS35[\"D17Oacc\"], mean(us35_D17_corr), std(us35_D17_corr))"
   ]
  },
  {
   "cell_type": "code",
   "execution_count": 123,
   "metadata": {
    "collapsed": false
   },
   "outputs": [
    {
     "name": "stdout",
     "output_type": "stream",
     "text": [
      "(12.986400000000001, 12.769365758366403, 0.64338865976121662)\n",
      "(-14.5456, -14.544578626809855, 0.12037837140815594)\n",
      "(13.008000000000001, 12.427320229622119, 0.081854025018439899)\n",
      "(51.101200000000006, 51.100178626809651, 0.23453051485287357)\n"
     ]
    }
   ],
   "source": [
    "print(IAEANO3[\"d17Oacc\"], mean(iaea_d17_corr), std(iaea_d17_corr))\n",
    "print(USGS34[\"d17Oacc\"], mean(us34_d17_corr), std(us34_d17_corr))\n",
    "print(USGS32[\"d17Oacc\"], mean(us32_d17_corr), std(us32_d17_corr))\n",
    "print(USGS35[\"d17Oacc\"], mean(us35_d17_corr), std(us35_d17_corr))"
   ]
  },
  {
   "cell_type": "code",
   "execution_count": 117,
   "metadata": {
    "collapsed": false
   },
   "outputs": [
    {
     "name": "stdout",
     "output_type": "stream",
     "text": [
      "(12.986400000000001, 12.442725097070673, 0.33545850975218616)\n",
      "(-14.5456, -14.543442056403428, 0.22244881054169119)\n",
      "(13.008000000000001, 12.564008593344795, 0.12198835048321961)\n",
      "(51.101200000000006, 51.099042056403036, 0.30782179904263735)\n"
     ]
    }
   ],
   "source": [
    "print(IAEANO3[\"d17Oacc\"], mean(iaea_d17_corr), std(iaea_d17_corr))\n",
    "print(USGS34[\"d17Oacc\"], mean(us34_d17_corr), std(us34_d17_corr))\n",
    "print(USGS32[\"d17Oacc\"], mean(us32_d17_corr), std(us32_d17_corr))\n",
    "print(USGS35[\"d17Oacc\"], mean(us35_d17_corr), std(us35_d17_corr))"
   ]
  },
  {
   "cell_type": "code",
   "execution_count": 128,
   "metadata": {
    "collapsed": false
   },
   "outputs": [
    {
     "name": "stdout",
     "output_type": "stream",
     "text": [
      "(25.32, 25.070586112526826, 0.33077919954673474)\n",
      "(-27.78, -27.778623402356651, 0.27773235305499194)\n",
      "(25.4, 25.548058745736327, 0.087782817183805636)\n",
      "(56.81, 56.808623402356659, 0.18826677881171563)\n"
     ]
    }
   ],
   "source": [
    "print(IAEANO3[\"d18Oacc\"], mean(iaea_d18_corr), std(iaea_d18_corr))\n",
    "print(USGS34[\"d18Oacc\"], mean(us34_d18_corr), std(us34_d18_corr))\n",
    "print(USGS32[\"d18Oacc\"], mean(us32_d18_corr), std(us32_d18_corr))\n",
    "print(USGS35[\"d18Oacc\"], mean(us35_d18_corr), std(us35_d18_corr))"
   ]
  },
  {
   "cell_type": "code",
   "execution_count": 118,
   "metadata": {
    "collapsed": false
   },
   "outputs": [
    {
     "name": "stdout",
     "output_type": "stream",
     "text": [
      "(25.32, 25.087675426405724, 0.32065647540414083)\n",
      "(-27.78, -27.778676519115557, 0.29794539302549605)\n",
      "(25.4, 25.533708534965388, 0.12274933819248704)\n",
      "(56.81, 56.808676519115693, 0.12983878461765577)\n"
     ]
    }
   ],
   "source": [
    "print(IAEANO3[\"d18Oacc\"], mean(iaea_d18_corr), std(iaea_d18_corr))\n",
    "print(USGS34[\"d18Oacc\"], mean(us34_d18_corr), std(us34_d18_corr))\n",
    "print(USGS32[\"d18Oacc\"], mean(us32_d18_corr), std(us32_d18_corr))\n",
    "print(USGS35[\"d18Oacc\"], mean(us35_d18_corr), std(us35_d18_corr))"
   ]
  },
  {
   "cell_type": "code",
   "execution_count": 96,
   "metadata": {
    "collapsed": true
   },
   "outputs": [],
   "source": [
    "for pair in l:\n",
    "    plot(odata[pair, 0], odata[pair, 1], 'kv', alpha=0.8)"
   ]
  },
  {
   "cell_type": "code",
   "execution_count": 272,
   "metadata": {
    "collapsed": false
   },
   "outputs": [],
   "source": [
    "l = []\n",
    "for row in areas:\n",
    "    if row[0][0] == \"USGS35\":\n",
    "        d17 = rtod((row[1][0][1] / r33) / (2*row[1][0][0] / r32 + row[1][0][1] / r33 + row[1][0][2] / r34), SMOW17)\n",
    "        d18 = rtod((row[1][0][2] / r34) / (2*row[1][0][0] / r32 + row[1][0][1] / r33 + row[1][0][2] / r34), SMOW18)\n",
    "        l += [[d17, d18]]\n",
    "        "
   ]
  },
  {
   "cell_type": "code",
   "execution_count": 275,
   "metadata": {
    "collapsed": false,
    "scrolled": true
   },
   "outputs": [
    {
     "data": {
      "text/plain": [
       "[33.599074344230907, 32.538711428646842, 35.21273991133895, 33.565312728260018]"
      ]
     },
     "execution_count": 275,
     "metadata": {},
     "output_type": "execute_result"
    }
   ],
   "source": [
    "[(x[0] - 0.52*x[1]) for x in l]"
   ]
  },
  {
   "cell_type": "code",
   "execution_count": 20,
   "metadata": {
    "collapsed": false
   },
   "outputs": [],
   "source": [
    "fname_1 = \"170228\" + \"_D17O_john_correction.txt\"\n"
   ]
  },
  {
   "cell_type": "code",
   "execution_count": null,
   "metadata": {
    "collapsed": true
   },
   "outputs": [],
   "source": []
  }
 ],
 "metadata": {
  "anaconda-cloud": {},
  "kernelspec": {
   "display_name": "Python [conda root]",
   "language": "python",
   "name": "conda-root-py"
  },
  "language_info": {
   "codemirror_mode": {
    "name": "ipython",
    "version": 2
   },
   "file_extension": ".py",
   "mimetype": "text/x-python",
   "name": "python",
   "nbconvert_exporter": "python",
   "pygments_lexer": "ipython2",
   "version": "2.7.12"
  }
 },
 "nbformat": 4,
 "nbformat_minor": 1
}
