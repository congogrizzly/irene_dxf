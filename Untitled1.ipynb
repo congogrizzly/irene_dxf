{
 "cells": [
  {
   "cell_type": "code",
   "execution_count": 1,
   "metadata": {
    "collapsed": false
   },
   "outputs": [
    {
     "name": "stdout",
     "output_type": "stream",
     "text": [
      "S:\\Data\\Logs\n"
     ]
    }
   ],
   "source": [
    "cd S:/Data/Logs/"
   ]
  },
  {
   "cell_type": "code",
   "execution_count": 3,
   "metadata": {
    "collapsed": false
   },
   "outputs": [],
   "source": [
    "import pandas as pd"
   ]
  },
  {
   "cell_type": "code",
   "execution_count": 4,
   "metadata": {
    "collapsed": true
   },
   "outputs": [],
   "source": [
    "df = pd.read_table(\"ReferenceMaterial_Irene_O2N2_log.txt\")"
   ]
  },
  {
   "cell_type": "code",
   "execution_count": 5,
   "metadata": {
    "collapsed": false
   },
   "outputs": [
    {
     "data": {
      "text/html": [
       "<div>\n",
       "<table border=\"1\" class=\"dataframe\">\n",
       "  <thead>\n",
       "    <tr style=\"text-align: right;\">\n",
       "      <th></th>\n",
       "      <th>Filename</th>\n",
       "      <th>Bacteria</th>\n",
       "      <th>Analysis</th>\n",
       "      <th>Date</th>\n",
       "      <th>Identifier1</th>\n",
       "      <th>Identifier2</th>\n",
       "      <th>Comment</th>\n",
       "      <th>Method</th>\n",
       "      <th>AreaAll_O</th>\n",
       "      <th>d17O16O</th>\n",
       "      <th>d18O16O</th>\n",
       "      <th>D17O</th>\n",
       "      <th>AreaAll_N</th>\n",
       "      <th>d15N14N</th>\n",
       "      <th>d17O_Final</th>\n",
       "      <th>d18O_Final</th>\n",
       "      <th>D17O_Final</th>\n",
       "      <th>d15N_Final</th>\n",
       "      <th>timeofanalysis</th>\n",
       "      <th>comments</th>\n",
       "    </tr>\n",
       "  </thead>\n",
       "  <tbody>\n",
       "    <tr>\n",
       "      <th>0</th>\n",
       "      <td>081007_O2_N2_Standards_Reeval.csv</td>\n",
       "      <td>Paur</td>\n",
       "      <td>9154</td>\n",
       "      <td>10/7/2008</td>\n",
       "      <td>USGS35</td>\n",
       "      <td>100.0</td>\n",
       "      <td>2.0</td>\n",
       "      <td>PreCon_O2_N2_Samples.met</td>\n",
       "      <td>57.948</td>\n",
       "      <td>25.823</td>\n",
       "      <td>32.497</td>\n",
       "      <td>8.9246</td>\n",
       "      <td>132.279</td>\n",
       "      <td>4.030</td>\n",
       "      <td>40.1440</td>\n",
       "      <td>40.6748</td>\n",
       "      <td>18.9264</td>\n",
       "      <td>2.9822</td>\n",
       "      <td>735670.4202</td>\n",
       "      <td>reeval 140312</td>\n",
       "    </tr>\n",
       "    <tr>\n",
       "      <th>1</th>\n",
       "      <td>081007_O2_N2_Standards_Reeval.csv</td>\n",
       "      <td>Paur</td>\n",
       "      <td>9155</td>\n",
       "      <td>10/7/2008</td>\n",
       "      <td>USGS35</td>\n",
       "      <td>100.0</td>\n",
       "      <td>2.0</td>\n",
       "      <td>PreCon_O2_N2_Samples.met</td>\n",
       "      <td>55.827</td>\n",
       "      <td>28.558</td>\n",
       "      <td>35.944</td>\n",
       "      <td>9.8671</td>\n",
       "      <td>125.027</td>\n",
       "      <td>4.116</td>\n",
       "      <td>46.0926</td>\n",
       "      <td>48.3320</td>\n",
       "      <td>20.8973</td>\n",
       "      <td>3.0694</td>\n",
       "      <td>735670.4202</td>\n",
       "      <td>reeval 140312</td>\n",
       "    </tr>\n",
       "    <tr>\n",
       "      <th>2</th>\n",
       "      <td>081007_O2_N2_Standards_Reeval.csv</td>\n",
       "      <td>Paur</td>\n",
       "      <td>9156</td>\n",
       "      <td>10/7/2008</td>\n",
       "      <td>USGS35</td>\n",
       "      <td>100.0</td>\n",
       "      <td>2.0</td>\n",
       "      <td>PreCon_O2_N2_Samples.met</td>\n",
       "      <td>62.762</td>\n",
       "      <td>31.890</td>\n",
       "      <td>40.868</td>\n",
       "      <td>10.6386</td>\n",
       "      <td>140.123</td>\n",
       "      <td>3.773</td>\n",
       "      <td>53.3396</td>\n",
       "      <td>59.2702</td>\n",
       "      <td>22.5105</td>\n",
       "      <td>2.7219</td>\n",
       "      <td>735670.4202</td>\n",
       "      <td>reeval 140312</td>\n",
       "    </tr>\n",
       "    <tr>\n",
       "      <th>3</th>\n",
       "      <td>081007_O2_N2_Standards_Reeval.csv</td>\n",
       "      <td>Paur</td>\n",
       "      <td>9157</td>\n",
       "      <td>10/7/2008</td>\n",
       "      <td>USGS35</td>\n",
       "      <td>100.0</td>\n",
       "      <td>2.0</td>\n",
       "      <td>PreCon_O2_N2_Samples.met</td>\n",
       "      <td>63.859</td>\n",
       "      <td>33.393</td>\n",
       "      <td>43.162</td>\n",
       "      <td>10.9488</td>\n",
       "      <td>141.429</td>\n",
       "      <td>3.695</td>\n",
       "      <td>56.6087</td>\n",
       "      <td>64.3661</td>\n",
       "      <td>23.1589</td>\n",
       "      <td>2.6429</td>\n",
       "      <td>735670.4202</td>\n",
       "      <td>reeval 140312</td>\n",
       "    </tr>\n",
       "    <tr>\n",
       "      <th>4</th>\n",
       "      <td>081007_O2_N2_Standards_Reeval.csv</td>\n",
       "      <td>Paur</td>\n",
       "      <td>9159</td>\n",
       "      <td>10/7/2008</td>\n",
       "      <td>USGS35</td>\n",
       "      <td>100.0</td>\n",
       "      <td>2.0</td>\n",
       "      <td>PreCon_O2_N2_Samples.met</td>\n",
       "      <td>60.910</td>\n",
       "      <td>32.103</td>\n",
       "      <td>41.555</td>\n",
       "      <td>10.4944</td>\n",
       "      <td>135.296</td>\n",
       "      <td>3.886</td>\n",
       "      <td>53.8029</td>\n",
       "      <td>60.7963</td>\n",
       "      <td>22.2089</td>\n",
       "      <td>2.8364</td>\n",
       "      <td>735670.4202</td>\n",
       "      <td>reeval 140312</td>\n",
       "    </tr>\n",
       "  </tbody>\n",
       "</table>\n",
       "</div>"
      ],
      "text/plain": [
       "                            Filename Bacteria  Analysis       Date  \\\n",
       "0  081007_O2_N2_Standards_Reeval.csv     Paur      9154  10/7/2008   \n",
       "1  081007_O2_N2_Standards_Reeval.csv     Paur      9155  10/7/2008   \n",
       "2  081007_O2_N2_Standards_Reeval.csv     Paur      9156  10/7/2008   \n",
       "3  081007_O2_N2_Standards_Reeval.csv     Paur      9157  10/7/2008   \n",
       "4  081007_O2_N2_Standards_Reeval.csv     Paur      9159  10/7/2008   \n",
       "\n",
       "  Identifier1  Identifier2  Comment                    Method  AreaAll_O  \\\n",
       "0      USGS35        100.0      2.0  PreCon_O2_N2_Samples.met     57.948   \n",
       "1      USGS35        100.0      2.0  PreCon_O2_N2_Samples.met     55.827   \n",
       "2      USGS35        100.0      2.0  PreCon_O2_N2_Samples.met     62.762   \n",
       "3      USGS35        100.0      2.0  PreCon_O2_N2_Samples.met     63.859   \n",
       "4      USGS35        100.0      2.0  PreCon_O2_N2_Samples.met     60.910   \n",
       "\n",
       "   d17O16O  d18O16O     D17O  AreaAll_N  d15N14N  d17O_Final  d18O_Final  \\\n",
       "0   25.823   32.497   8.9246    132.279    4.030     40.1440     40.6748   \n",
       "1   28.558   35.944   9.8671    125.027    4.116     46.0926     48.3320   \n",
       "2   31.890   40.868  10.6386    140.123    3.773     53.3396     59.2702   \n",
       "3   33.393   43.162  10.9488    141.429    3.695     56.6087     64.3661   \n",
       "4   32.103   41.555  10.4944    135.296    3.886     53.8029     60.7963   \n",
       "\n",
       "   D17O_Final  d15N_Final  timeofanalysis       comments  \n",
       "0     18.9264      2.9822     735670.4202  reeval 140312  \n",
       "1     20.8973      3.0694     735670.4202  reeval 140312  \n",
       "2     22.5105      2.7219     735670.4202  reeval 140312  \n",
       "3     23.1589      2.6429     735670.4202  reeval 140312  \n",
       "4     22.2089      2.8364     735670.4202  reeval 140312  "
      ]
     },
     "execution_count": 5,
     "metadata": {},
     "output_type": "execute_result"
    }
   ],
   "source": [
    "df.head()"
   ]
  },
  {
   "cell_type": "code",
   "execution_count": 9,
   "metadata": {
    "collapsed": false
   },
   "outputs": [
    {
     "data": {
      "text/plain": [
       "[<matplotlib.lines.Line2D at 0xdd20da0>]"
      ]
     },
     "execution_count": 9,
     "metadata": {},
     "output_type": "execute_result"
    }
   ],
   "source": [
    "plot(df[\"AreaAll_O\"], 'o')"
   ]
  },
  {
   "cell_type": "code",
   "execution_count": 7,
   "metadata": {
    "collapsed": false
   },
   "outputs": [
    {
     "name": "stdout",
     "output_type": "stream",
     "text": [
      "Using matplotlib backend: Qt5Agg\n",
      "Populating the interactive namespace from numpy and matplotlib\n"
     ]
    }
   ],
   "source": [
    "%pylab"
   ]
  },
  {
   "cell_type": "code",
   "execution_count": null,
   "metadata": {
    "collapsed": true
   },
   "outputs": [],
   "source": []
  }
 ],
 "metadata": {
  "kernelspec": {
   "display_name": "Python [conda root]",
   "language": "python",
   "name": "conda-root-py"
  },
  "language_info": {
   "codemirror_mode": {
    "name": "ipython",
    "version": 2
   },
   "file_extension": ".py",
   "mimetype": "text/x-python",
   "name": "python",
   "nbconvert_exporter": "python",
   "pygments_lexer": "ipython2",
   "version": "2.7.12"
  }
 },
 "nbformat": 4,
 "nbformat_minor": 2
}
